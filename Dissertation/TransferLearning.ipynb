{
 "cells": [
  {
   "cell_type": "markdown",
   "id": "737f5f14",
   "metadata": {},
   "source": [
    "# Dissertation"
   ]
  },
  {
   "cell_type": "markdown",
   "id": "8f3073d9",
   "metadata": {},
   "source": [
    "## Research into the techniques and methods to achieve state of the art accuracy in flower species identification\n"
   ]
  },
  {
   "cell_type": "code",
   "execution_count": 1,
   "id": "0195ae1f",
   "metadata": {},
   "outputs": [],
   "source": [
    "%load_ext autoreload\n",
    "%autoreload 2"
   ]
  },
  {
   "cell_type": "code",
   "execution_count": 2,
   "id": "4d6984ae",
   "metadata": {},
   "outputs": [],
   "source": [
    "###imports###\n",
    "import numpy as np\n",
    "import tensorflow as tf\n",
    "import scipy.io\n",
    "from scipy import io\n",
    "import tensorflow_hub as hub\n",
    "import time\n",
    "import sys\n",
    "import pandas as pd\n",
    "import cv2\n",
    "import os\n",
    "import matplotlib.pyplot as plt\n",
    "from sklearn.model_selection import train_test_split\n",
    "from keras.callbacks import TensorBoard\n",
    "from tensorflow.keras.models import Sequential\n",
    "from tensorflow.python.keras.optimizer_v2.adam import Adam\n",
    "from tensorflow.keras.callbacks import TensorBoard\n",
    "from tensorflow.keras.layers import BatchNormalization\n",
    "from tensorflow.keras.layers import Dense, Dropout, Activation, Flatten, Conv2D, MaxPooling2D\n",
    "from tensorflow.keras.preprocessing.image import ImageDataGenerator\n",
    "from tensorflow.keras.applications.resnet50 import preprocess_input\n",
    "from tensorflow.keras.callbacks import TensorBoard\n",
    "from tensorflow.keras.preprocessing import image\n",
    "from tensorflow.python.framework import graph_util\n",
    "from tensorflow.keras.callbacks import TensorBoard\n",
    "from tensorflow.keras import datasets, layers, models, losses, Model\n",
    "import keras\n",
    "import pickle\n",
    "import datetime\n",
    "import time\n",
    "from numpy import array\n",
    "from numpy import argmax\n",
    "from sklearn.preprocessing import LabelBinarizer\n",
    "from sklearn.metrics import mean_squared_error, mean_absolute_error, r2_score\n",
    "from sklearn.model_selection import train_test_split\n",
    "from sklearn.linear_model import ElasticNet\n",
    "from urllib.parse import urlparse\n",
    "import mlflow\n",
    "import mlflow.sklearn\n",
    "from sklearn.preprocessing import OneHotEncoder\n",
    "import logging\n",
    "#import skimage.io\n",
    "import random\n",
    "import PIL\n",
    "from pathlib import Path\n",
    "from keras.models import Model"
   ]
  },
  {
   "cell_type": "code",
   "execution_count": 3,
   "id": "4fa11d15",
   "metadata": {
    "scrolled": false
   },
   "outputs": [
    {
     "name": "stdout",
     "output_type": "stream",
     "text": [
      "2.5.0\n"
     ]
    }
   ],
   "source": [
    "print(tf.__version__)"
   ]
  },
  {
   "cell_type": "code",
   "execution_count": 4,
   "id": "5a43f00f",
   "metadata": {},
   "outputs": [],
   "source": [
    "logging.basicConfig(level=logging.WARN)\n",
    "logger = logging.getLogger(__name__)"
   ]
  },
  {
   "cell_type": "code",
   "execution_count": 5,
   "id": "fed53ae1",
   "metadata": {},
   "outputs": [
    {
     "name": "stdout",
     "output_type": "stream",
     "text": [
      "Default GPU Device:/device:GPU:0\n"
     ]
    }
   ],
   "source": [
    "if tf.test.gpu_device_name(): \n",
    "\n",
    "    print('Default GPU Device:{}'.format(tf.test.gpu_device_name()))\n",
    "\n",
    "else:\n",
    "\n",
    "    print(\"Please install GPU version of TF\")"
   ]
  },
  {
   "cell_type": "code",
   "execution_count": 6,
   "id": "5ecf1c7f",
   "metadata": {},
   "outputs": [],
   "source": [
    "#makes all outputs be in float format rather than exponentials\n",
    "np.set_printoptions(formatter={'float_kind':'{:f}'.format})"
   ]
  },
  {
   "cell_type": "code",
   "execution_count": 7,
   "id": "8c860a91",
   "metadata": {},
   "outputs": [],
   "source": [
    "#Set Parameters\n",
    "IMG_SIZE = 224 #this parameter sets image dimensions as 50*50\n",
    "DATE = datetime.datetime.now().strftime('%d-%b-%Y')\n",
    "MODEL_PATH = f'models/{DATE}/'\n",
    "MODEL_NAME = 'TransferResNet152V2.model'.format(int(time.time()))\n",
    "TENSORBOARD = TensorBoard(log_dir=f'logs\\\\{MODEL_NAME}')\n",
    "log_dir=f'logs\\\\{MODEL_NAME}'"
   ]
  },
  {
   "cell_type": "code",
   "execution_count": 8,
   "id": "48c687c2",
   "metadata": {},
   "outputs": [],
   "source": [
    "# Load the TensorBoard notebook extension\n",
    "%load_ext tensorboard"
   ]
  },
  {
   "cell_type": "code",
   "execution_count": 9,
   "id": "825fca18",
   "metadata": {},
   "outputs": [],
   "source": [
    "tensorboard_callback = tf.keras.callbacks.TensorBoard(log_dir=log_dir, histogram_freq=1)"
   ]
  },
  {
   "cell_type": "markdown",
   "id": "4dfbdd12",
   "metadata": {},
   "source": [
    "# Load Directory"
   ]
  },
  {
   "cell_type": "code",
   "execution_count": 10,
   "id": "aee55642",
   "metadata": {},
   "outputs": [],
   "source": [
    "URL_dir = 'E:/Github/thesis/flowerDataset/Flower'\n",
    "labels_dir = 'E:/Github/thesis/flowerDataset/imagelabels.mat'\n",
    "dataSplit_dir = 'E:/Github/thesis/flowerDataset/setid.mat'\n",
    "loaded_images_dir = 'E:/Dissertation/loaded_images.npy'\n",
    "image_train_dir ='E:/Dissertation/image_train.npy'\n",
    "label_train_dir = 'E:/Dissertation/label_train.npy'\n",
    "image_test_dir = 'E:/Dissertation/image_test.npy'\n",
    "label_test_dir = 'E:/Dissertation/label_test.npy'\n",
    "image_val_dir = 'E:/Dissertation/image_val.npy'\n",
    "label_val_dir = 'E:/Dissertation/label_val.npy'"
   ]
  },
  {
   "cell_type": "code",
   "execution_count": 11,
   "id": "606a621e",
   "metadata": {
    "scrolled": true
   },
   "outputs": [],
   "source": [
    "data_labels = io.loadmat(labels_dir)\n",
    "data_labels = data_labels.items()\n",
    "data_labels = list(data_labels)"
   ]
  },
  {
   "cell_type": "code",
   "execution_count": 12,
   "id": "8764eec5",
   "metadata": {},
   "outputs": [],
   "source": [
    "df = pd.DataFrame(data_labels)"
   ]
  },
  {
   "cell_type": "code",
   "execution_count": 13,
   "id": "954c09e0",
   "metadata": {},
   "outputs": [],
   "source": [
    "labels = df[1][3][0] #loads the labels that is stored in dataframe format"
   ]
  },
  {
   "cell_type": "code",
   "execution_count": 14,
   "id": "9f42638c",
   "metadata": {},
   "outputs": [
    {
     "data": {
      "text/plain": [
       "8189"
      ]
     },
     "execution_count": 14,
     "metadata": {},
     "output_type": "execute_result"
    }
   ],
   "source": [
    "len(labels)"
   ]
  },
  {
   "cell_type": "code",
   "execution_count": 15,
   "id": "16fc6352",
   "metadata": {},
   "outputs": [],
   "source": [
    "#Got loading files code from link below\n",
    "#https://stackoverflow.com/questions/30230592/loading-all-images-using-imread-from-a-given-folder\n",
    "#Function gets all the images loaded up\n",
    "def load_images_from_folder(URL):\n",
    "    images = []\n",
    "    for filename in os.listdir(URL):\n",
    "        #img = cv2.imread(os.path.join(URL,filename))\n",
    "        img = cv2.resize(cv2.imread(os.path.join(URL,filename), cv2.COLOR_BGR2RGB), (IMG_SIZE, IMG_SIZE))\n",
    "        img = np.reshape(img,[IMG_SIZE,IMG_SIZE,3])\n",
    "        if img is not None:\n",
    "            images.append(img)\n",
    "    np.save(loaded_images_dir, images)\n",
    "#################################    return images#######################################################################"
   ]
  },
  {
   "cell_type": "code",
   "execution_count": 16,
   "id": "2ce45dce",
   "metadata": {},
   "outputs": [],
   "source": [
    "#No need to run this cell if image already loaded.\n",
    "load_images_from_folder(URL_dir)"
   ]
  },
  {
   "cell_type": "code",
   "execution_count": 17,
   "id": "bfa034b4",
   "metadata": {},
   "outputs": [],
   "source": [
    "image_data = np.load(loaded_images_dir, allow_pickle=True)"
   ]
  },
  {
   "cell_type": "code",
   "execution_count": 18,
   "id": "57859247",
   "metadata": {},
   "outputs": [
    {
     "data": {
      "text/plain": [
       "(8189, 224, 224, 3)"
      ]
     },
     "execution_count": 18,
     "metadata": {},
     "output_type": "execute_result"
    }
   ],
   "source": [
    "image_data.shape"
   ]
  },
  {
   "cell_type": "code",
   "execution_count": 19,
   "id": "09dc7686",
   "metadata": {},
   "outputs": [],
   "source": [
    "def randomised_dataset(image_data, labels):\n",
    "    np.random.seed(8)\n",
    "    indices = np.arange(image_data.shape[0])\n",
    "    print(indices)\n",
    "    np.random.shuffle(indices)\n",
    "    image_data = image_data[indices]\n",
    "    labels = labels[indices]\n",
    "    return image_data, labels"
   ]
  },
  {
   "cell_type": "code",
   "execution_count": 20,
   "id": "306569b2",
   "metadata": {},
   "outputs": [
    {
     "name": "stdout",
     "output_type": "stream",
     "text": [
      "[   0    1    2 ... 8186 8187 8188]\n"
     ]
    }
   ],
   "source": [
    "image_data, labels = randomised_dataset(image_data, labels)"
   ]
  },
  {
   "cell_type": "code",
   "execution_count": 21,
   "id": "21d46713",
   "metadata": {},
   "outputs": [],
   "source": [
    "# # Label Encoder\n",
    "\n",
    "mlb = LabelBinarizer()\n",
    "converted_labels = np.array(mlb.fit_transform(labels))"
   ]
  },
  {
   "cell_type": "code",
   "execution_count": 22,
   "id": "8d3a8adb",
   "metadata": {},
   "outputs": [
    {
     "data": {
      "text/plain": [
       "array([0, 0, 0, 0, 0, 0, 0, 0, 0, 0, 0, 0, 0, 0, 0, 0, 0, 0, 0, 0, 0, 0,\n",
       "       0, 0, 0, 0, 0, 0, 0, 0, 0, 0, 0, 0, 0, 0, 0, 0, 0, 0, 0, 0, 0, 0,\n",
       "       0, 0, 0, 0, 0, 0, 0, 1, 0, 0, 0, 0, 0, 0, 0, 0, 0, 0, 0, 0, 0, 0,\n",
       "       0, 0, 0, 0, 0, 0, 0, 0, 0, 0, 0, 0, 0, 0, 0, 0, 0, 0, 0, 0, 0, 0,\n",
       "       0, 0, 0, 0, 0, 0, 0, 0, 0, 0, 0, 0, 0, 0])"
      ]
     },
     "execution_count": 22,
     "metadata": {},
     "output_type": "execute_result"
    }
   ],
   "source": [
    "converted_labels[0]"
   ]
  },
  {
   "cell_type": "code",
   "execution_count": 23,
   "id": "5dbee6c9",
   "metadata": {},
   "outputs": [],
   "source": [
    "#citation code from https://datascience.stackexchange.com/questions/15135/train-test-validation-set-splitting-in-sklearn\n",
    "#splitting the image dataset into the ratio for training, validation and testing data\n",
    "def split_data(image_data, converted_labels):\n",
    "    \n",
    "    train_ratio = 0.75\n",
    "    validation_ratio = 0.15\n",
    "    test_ratio = 0.10\n",
    "\n",
    "    image_train, image_test, label_train, label_test = train_test_split(image_data, converted_labels, test_size=1 - train_ratio, random_state=42)\n",
    "\n",
    "    #the test from previous line which is 25% of dataset is passed into the line below to be \n",
    "    #further split into 15% for validation and 10% for testing\n",
    "\n",
    "    image_val, image_test, label_val, label_test = train_test_split(image_test, label_test, test_size=test_ratio/(test_ratio + validation_ratio),random_state=42) \n",
    "\n",
    "    print('image_train',image_train.shape)\n",
    "    print('label_train',label_train.shape)\n",
    "    print('image_test',image_test.shape)\n",
    "    print('label_test',label_test.shape)\n",
    "    print('image_val', image_val.shape)\n",
    "    print('label_val', label_val.shape)\n",
    "\n",
    "    np.save(image_train_dir, image_train)\n",
    "    np.save(label_train_dir, label_train)\n",
    "    np.save(image_test_dir, image_test)\n",
    "    np.save(label_test_dir, label_test)\n",
    "    np.save(image_val_dir, image_val)\n",
    "    np.save(label_val_dir, label_val)\n",
    "\n"
   ]
  },
  {
   "cell_type": "code",
   "execution_count": 24,
   "id": "714c1c38",
   "metadata": {},
   "outputs": [
    {
     "name": "stdout",
     "output_type": "stream",
     "text": [
      "image_train (6141, 224, 224, 3)\n",
      "label_train (6141, 102)\n",
      "image_test (820, 224, 224, 3)\n",
      "label_test (820, 102)\n",
      "image_val (1228, 224, 224, 3)\n",
      "label_val (1228, 102)\n"
     ]
    }
   ],
   "source": [
    "split_data(image_data,converted_labels)"
   ]
  },
  {
   "cell_type": "code",
   "execution_count": 25,
   "id": "4b07b026",
   "metadata": {},
   "outputs": [],
   "source": [
    "image_train = np.load(image_train_dir, allow_pickle=True)\n",
    "image_test = np.load(image_test_dir, allow_pickle=True)\n",
    "label_train = np.load(label_train_dir, allow_pickle=True)\n",
    "label_test = np.load(label_test_dir, allow_pickle=True)\n",
    "image_val = np.load(image_val_dir, allow_pickle=True)\n",
    "label_val = np.load(label_val_dir, allow_pickle=True)"
   ]
  },
  {
   "cell_type": "code",
   "execution_count": 26,
   "id": "74fa7964",
   "metadata": {},
   "outputs": [
    {
     "data": {
      "text/plain": [
       "(6141, 224, 224, 3)"
      ]
     },
     "execution_count": 26,
     "metadata": {},
     "output_type": "execute_result"
    }
   ],
   "source": [
    "image_train.shape"
   ]
  },
  {
   "cell_type": "markdown",
   "id": "6b5a1187",
   "metadata": {},
   "source": [
    "### Feature Scaling"
   ]
  },
  {
   "cell_type": "code",
   "execution_count": 27,
   "id": "ff6920dc",
   "metadata": {},
   "outputs": [],
   "source": [
    "# #converts the images to the range of 0 - 1.0 \n",
    "image_train = image_train/255.0\n",
    "image_test = image_test/255.0\n",
    "image_val = image_val/255.0"
   ]
  },
  {
   "cell_type": "code",
   "execution_count": 28,
   "id": "e1bb389a",
   "metadata": {},
   "outputs": [
    {
     "data": {
      "text/plain": [
       "(6141, 224, 224, 3)"
      ]
     },
     "execution_count": 28,
     "metadata": {},
     "output_type": "execute_result"
    }
   ],
   "source": [
    "image_train.shape"
   ]
  },
  {
   "cell_type": "code",
   "execution_count": 29,
   "id": "4e534027",
   "metadata": {},
   "outputs": [
    {
     "data": {
      "text/plain": [
       "(6141, 102)"
      ]
     },
     "execution_count": 29,
     "metadata": {},
     "output_type": "execute_result"
    }
   ],
   "source": [
    "label_train.shape"
   ]
  },
  {
   "cell_type": "code",
   "execution_count": 30,
   "id": "312de917",
   "metadata": {},
   "outputs": [
    {
     "data": {
      "text/plain": [
       "(820, 102)"
      ]
     },
     "execution_count": 30,
     "metadata": {},
     "output_type": "execute_result"
    }
   ],
   "source": [
    "label_test.shape"
   ]
  },
  {
   "cell_type": "code",
   "execution_count": 31,
   "id": "4eeeb8c0",
   "metadata": {},
   "outputs": [
    {
     "data": {
      "text/plain": [
       "820"
      ]
     },
     "execution_count": 31,
     "metadata": {},
     "output_type": "execute_result"
    }
   ],
   "source": [
    "len(image_test)"
   ]
  },
  {
   "cell_type": "markdown",
   "id": "5ac508a3",
   "metadata": {},
   "source": [
    "## Find unique labels"
   ]
  },
  {
   "cell_type": "code",
   "execution_count": 32,
   "id": "27bb0e21",
   "metadata": {},
   "outputs": [
    {
     "data": {
      "text/plain": [
       "6141"
      ]
     },
     "execution_count": 32,
     "metadata": {},
     "output_type": "execute_result"
    }
   ],
   "source": [
    "len(label_train)"
   ]
  },
  {
   "cell_type": "code",
   "execution_count": 39,
   "id": "55d0ae0b",
   "metadata": {},
   "outputs": [],
   "source": [
    "# number of classes/ flowers\n",
    "NUM_CLASSES = 102"
   ]
  },
  {
   "cell_type": "markdown",
   "id": "49d89c64",
   "metadata": {},
   "source": [
    "# Transfer Learning --ResNet152V2"
   ]
  },
  {
   "cell_type": "code",
   "execution_count": 38,
   "id": "5aecf681",
   "metadata": {},
   "outputs": [],
   "source": [
    "from tensorflow.keras.applications  import ResNet152V2"
   ]
  },
  {
   "cell_type": "code",
   "execution_count": 39,
   "id": "600f7f9b",
   "metadata": {},
   "outputs": [],
   "source": [
    "resnet = ResNet152V2(\n",
    "    input_shape=(224,224,3),\n",
    "    weights=\"imagenet\",\n",
    "    include_top=False, # removes last layer of the resnet model\n",
    ")"
   ]
  },
  {
   "cell_type": "code",
   "execution_count": 40,
   "id": "4b7d5ff5",
   "metadata": {},
   "outputs": [],
   "source": [
    "for layer in resnet.layers: #don't train existing weights\n",
    "    layer.trainable = False"
   ]
  },
  {
   "cell_type": "code",
   "execution_count": 41,
   "id": "c48fd133",
   "metadata": {},
   "outputs": [],
   "source": [
    "x = layers.Flatten()(resnet.output)\n",
    "#x = layers.Dense(1000, activation='relu')(x)\n",
    "prediction = Dense(NUM_CLASSES, activation=\"softmax\")(x)\n",
    "\n",
    "model = Model(inputs=resnet.input, outputs=prediction)"
   ]
  },
  {
   "cell_type": "code",
   "execution_count": 42,
   "id": "5b0912eb",
   "metadata": {},
   "outputs": [
    {
     "name": "stdout",
     "output_type": "stream",
     "text": [
      "Model: \"model\"\n",
      "__________________________________________________________________________________________________\n",
      "Layer (type)                    Output Shape         Param #     Connected to                     \n",
      "==================================================================================================\n",
      "Total params: 68,567,654\n",
      "Trainable params: 10,236,006\n",
      "Non-trainable params: 58,331,648\n",
      "__________________________________________________________________________________________________\n"
     ]
    }
   ],
   "source": [
    "model.summary()"
   ]
  },
  {
   "cell_type": "code",
   "execution_count": 43,
   "id": "67a12b43",
   "metadata": {},
   "outputs": [],
   "source": [
    "model.compile(\n",
    "    loss=\"categorical_crossentropy\",\n",
    "    optimizer=\"adam\",\n",
    "    metrics=[\"accuracy\"]\n",
    ")"
   ]
  },
  {
   "cell_type": "code",
   "execution_count": 44,
   "id": "d0da386a",
   "metadata": {},
   "outputs": [],
   "source": [
    "from tensorflow import keras\n",
    "from tensorflow.keras.models import Sequential\n",
    "from tensorflow.keras.layers import Dense, LSTM"
   ]
  },
  {
   "cell_type": "code",
   "execution_count": 45,
   "id": "b2a00779",
   "metadata": {},
   "outputs": [],
   "source": [
    "batch_size = 64\n",
    "epochs = 100\n",
    "verbose= 2"
   ]
  },
  {
   "cell_type": "code",
   "execution_count": 47,
   "id": "5b83a0b6",
   "metadata": {},
   "outputs": [
    {
     "name": "stderr",
     "output_type": "stream",
     "text": [
      "2021/08/19 13:52:49 WARNING mlflow.utils.autologging_utils: You are using an unsupported version of tensorflow. If you encounter errors during autologging, try upgrading / downgrading tensorflow to a supported version, or try upgrading MLflow.\n"
     ]
    },
    {
     "name": "stdout",
     "output_type": "stream",
     "text": [
      "WARNING:tensorflow:Model failed to serialize as JSON. Ignoring... 'input_2_ib-0'\n"
     ]
    },
    {
     "name": "stderr",
     "output_type": "stream",
     "text": [
      "WARNING:tensorflow:Model failed to serialize as JSON. Ignoring... 'input_2_ib-0'\n"
     ]
    },
    {
     "name": "stdout",
     "output_type": "stream",
     "text": [
      "Epoch 1/100\n",
      "96/96 - 43s - loss: 6.9219 - accuracy: 0.5993 - val_loss: 4.3067 - val_accuracy: 0.7036\n",
      "Epoch 2/100\n",
      "96/96 - 20s - loss: 0.5444 - accuracy: 0.9459 - val_loss: 3.9403 - val_accuracy: 0.7435\n",
      "Epoch 3/100\n",
      "96/96 - 20s - loss: 0.2812 - accuracy: 0.9691 - val_loss: 4.8482 - val_accuracy: 0.7402\n",
      "Epoch 4/100\n",
      "96/96 - 20s - loss: 0.1346 - accuracy: 0.9858 - val_loss: 3.7918 - val_accuracy: 0.7736\n",
      "Epoch 5/100\n",
      "96/96 - 19s - loss: 0.0841 - accuracy: 0.9909 - val_loss: 4.3188 - val_accuracy: 0.7655\n",
      "Epoch 6/100\n",
      "96/96 - 20s - loss: 0.1094 - accuracy: 0.9894 - val_loss: 4.2600 - val_accuracy: 0.7728\n",
      "Epoch 7/100\n",
      "96/96 - 19s - loss: 0.0684 - accuracy: 0.9927 - val_loss: 4.7056 - val_accuracy: 0.7598\n",
      "Epoch 8/100\n",
      "96/96 - 20s - loss: 0.1391 - accuracy: 0.9910 - val_loss: 4.9245 - val_accuracy: 0.7476\n",
      "Epoch 9/100\n",
      "96/96 - 20s - loss: 0.1649 - accuracy: 0.9842 - val_loss: 5.4200 - val_accuracy: 0.7467\n",
      "Epoch 10/100\n",
      "96/96 - 19s - loss: 0.2508 - accuracy: 0.9805 - val_loss: 6.9340 - val_accuracy: 0.7199\n",
      "Epoch 11/100\n",
      "96/96 - 19s - loss: 0.3638 - accuracy: 0.9752 - val_loss: 8.8048 - val_accuracy: 0.6971\n",
      "Epoch 12/100\n",
      "96/96 - 19s - loss: 0.5607 - accuracy: 0.9611 - val_loss: 7.7741 - val_accuracy: 0.7215\n",
      "Epoch 13/100\n",
      "96/96 - 21s - loss: 0.2909 - accuracy: 0.9793 - val_loss: 7.0799 - val_accuracy: 0.7508\n",
      "Epoch 14/100\n",
      "96/96 - 21s - loss: 0.1943 - accuracy: 0.9837 - val_loss: 7.8331 - val_accuracy: 0.7386\n",
      "Epoch 15/100\n",
      "96/96 - 20s - loss: 0.1871 - accuracy: 0.9876 - val_loss: 7.7494 - val_accuracy: 0.7524\n",
      "Epoch 16/100\n",
      "96/96 - 20s - loss: 0.1309 - accuracy: 0.9893 - val_loss: 6.7923 - val_accuracy: 0.7736\n",
      "Epoch 17/100\n",
      "96/96 - 19s - loss: 0.1745 - accuracy: 0.9879 - val_loss: 8.3523 - val_accuracy: 0.7598\n",
      "Epoch 18/100\n",
      "96/96 - 19s - loss: 0.0998 - accuracy: 0.9917 - val_loss: 7.0164 - val_accuracy: 0.7801\n",
      "Epoch 19/100\n",
      "96/96 - 22s - loss: 0.0843 - accuracy: 0.9938 - val_loss: 6.6833 - val_accuracy: 0.7818\n",
      "Epoch 20/100\n",
      "96/96 - 22s - loss: 0.1071 - accuracy: 0.9915 - val_loss: 7.2321 - val_accuracy: 0.7687\n",
      "Epoch 21/100\n",
      "96/96 - 22s - loss: 0.1180 - accuracy: 0.9920 - val_loss: 6.7445 - val_accuracy: 0.7801\n",
      "Epoch 22/100\n",
      "96/96 - 22s - loss: 0.0941 - accuracy: 0.9923 - val_loss: 9.3155 - val_accuracy: 0.7427\n",
      "Epoch 23/100\n",
      "96/96 - 22s - loss: 0.1329 - accuracy: 0.9922 - val_loss: 7.1202 - val_accuracy: 0.7866\n",
      "Epoch 24/100\n",
      "96/96 - 21s - loss: 0.0754 - accuracy: 0.9933 - val_loss: 7.7266 - val_accuracy: 0.7671\n",
      "Epoch 25/100\n",
      "96/96 - 22s - loss: 0.0869 - accuracy: 0.9948 - val_loss: 8.4440 - val_accuracy: 0.7663\n",
      "Epoch 26/100\n",
      "96/96 - 22s - loss: 0.2283 - accuracy: 0.9904 - val_loss: 9.3997 - val_accuracy: 0.7598\n",
      "Epoch 27/100\n",
      "96/96 - 19s - loss: 0.1274 - accuracy: 0.9927 - val_loss: 8.1326 - val_accuracy: 0.7720\n",
      "Epoch 28/100\n",
      "96/96 - 20s - loss: 0.1138 - accuracy: 0.9935 - val_loss: 10.6010 - val_accuracy: 0.7500\n",
      "Epoch 29/100\n",
      "96/96 - 20s - loss: 0.1506 - accuracy: 0.9927 - val_loss: 10.8146 - val_accuracy: 0.7565\n",
      "Epoch 30/100\n",
      "96/96 - 20s - loss: 0.1428 - accuracy: 0.9920 - val_loss: 9.2516 - val_accuracy: 0.7793\n",
      "Epoch 31/100\n",
      "96/96 - 21s - loss: 0.1344 - accuracy: 0.9923 - val_loss: 9.8013 - val_accuracy: 0.7614\n",
      "Epoch 32/100\n",
      "96/96 - 20s - loss: 0.1187 - accuracy: 0.9932 - val_loss: 11.5689 - val_accuracy: 0.7736\n",
      "Epoch 33/100\n",
      "96/96 - 20s - loss: 0.1442 - accuracy: 0.9928 - val_loss: 10.4976 - val_accuracy: 0.7728\n",
      "Epoch 34/100\n",
      "96/96 - 20s - loss: 0.2256 - accuracy: 0.9896 - val_loss: 11.2691 - val_accuracy: 0.7687\n",
      "Epoch 35/100\n",
      "96/96 - 20s - loss: 0.3689 - accuracy: 0.9888 - val_loss: 11.7910 - val_accuracy: 0.7663\n",
      "Epoch 36/100\n",
      "96/96 - 21s - loss: 0.1829 - accuracy: 0.9923 - val_loss: 12.7585 - val_accuracy: 0.7427\n",
      "Epoch 37/100\n",
      "96/96 - 20s - loss: 0.1441 - accuracy: 0.9914 - val_loss: 11.5175 - val_accuracy: 0.7728\n",
      "Epoch 38/100\n",
      "96/96 - 18s - loss: 0.1103 - accuracy: 0.9938 - val_loss: 10.5567 - val_accuracy: 0.7883\n",
      "Epoch 39/100\n",
      "96/96 - 18s - loss: 0.1193 - accuracy: 0.9948 - val_loss: 12.8166 - val_accuracy: 0.7581\n",
      "Epoch 40/100\n",
      "96/96 - 18s - loss: 0.1201 - accuracy: 0.9951 - val_loss: 12.1991 - val_accuracy: 0.7679\n",
      "Epoch 41/100\n",
      "96/96 - 18s - loss: 0.1383 - accuracy: 0.9943 - val_loss: 13.2357 - val_accuracy: 0.7695\n",
      "Epoch 42/100\n",
      "96/96 - 18s - loss: 0.1986 - accuracy: 0.9922 - val_loss: 13.0403 - val_accuracy: 0.7785\n",
      "Epoch 43/100\n",
      "96/96 - 19s - loss: 0.1236 - accuracy: 0.9940 - val_loss: 13.3473 - val_accuracy: 0.7614\n",
      "Epoch 44/100\n",
      "96/96 - 19s - loss: 0.0822 - accuracy: 0.9972 - val_loss: 12.8901 - val_accuracy: 0.7679\n",
      "Epoch 45/100\n",
      "96/96 - 19s - loss: 0.1717 - accuracy: 0.9958 - val_loss: 14.7071 - val_accuracy: 0.7516\n",
      "Epoch 46/100\n",
      "96/96 - 17s - loss: 0.0550 - accuracy: 0.9951 - val_loss: 14.1168 - val_accuracy: 0.7581\n",
      "Epoch 47/100\n",
      "96/96 - 17s - loss: 0.0584 - accuracy: 0.9971 - val_loss: 12.4914 - val_accuracy: 0.7785\n",
      "Epoch 48/100\n",
      "96/96 - 17s - loss: 0.0472 - accuracy: 0.9974 - val_loss: 13.0665 - val_accuracy: 0.7736\n",
      "Epoch 49/100\n",
      "96/96 - 17s - loss: 0.0480 - accuracy: 0.9984 - val_loss: 12.7043 - val_accuracy: 0.7801\n",
      "Epoch 50/100\n",
      "96/96 - 17s - loss: 0.1555 - accuracy: 0.9963 - val_loss: 13.3010 - val_accuracy: 0.7704\n",
      "Epoch 51/100\n",
      "96/96 - 17s - loss: 0.1823 - accuracy: 0.9930 - val_loss: 13.7592 - val_accuracy: 0.7663\n",
      "Epoch 52/100\n",
      "96/96 - 17s - loss: 0.1202 - accuracy: 0.9953 - val_loss: 12.0761 - val_accuracy: 0.7932\n",
      "Epoch 53/100\n",
      "96/96 - 17s - loss: 0.0192 - accuracy: 0.9989 - val_loss: 12.7888 - val_accuracy: 0.7818\n",
      "Epoch 54/100\n",
      "96/96 - 17s - loss: 0.0237 - accuracy: 0.9984 - val_loss: 11.7720 - val_accuracy: 0.7940\n",
      "Epoch 55/100\n",
      "96/96 - 17s - loss: 0.0772 - accuracy: 0.9976 - val_loss: 14.9265 - val_accuracy: 0.7394\n",
      "Epoch 56/100\n",
      "96/96 - 18s - loss: 0.1215 - accuracy: 0.9946 - val_loss: 14.2821 - val_accuracy: 0.7630\n",
      "Epoch 57/100\n",
      "96/96 - 17s - loss: 0.1854 - accuracy: 0.9945 - val_loss: 16.4011 - val_accuracy: 0.7459\n",
      "Epoch 58/100\n",
      "96/96 - 17s - loss: 0.1698 - accuracy: 0.9946 - val_loss: 13.3661 - val_accuracy: 0.7728\n",
      "Epoch 59/100\n",
      "96/96 - 17s - loss: 0.1250 - accuracy: 0.9961 - val_loss: 13.8819 - val_accuracy: 0.7777\n",
      "Epoch 60/100\n",
      "96/96 - 17s - loss: 0.1702 - accuracy: 0.9945 - val_loss: 14.5036 - val_accuracy: 0.7915\n",
      "Epoch 61/100\n",
      "96/96 - 17s - loss: 0.0721 - accuracy: 0.9961 - val_loss: 16.5966 - val_accuracy: 0.7606\n",
      "Epoch 62/100\n",
      "96/96 - 18s - loss: 0.0955 - accuracy: 0.9959 - val_loss: 19.4128 - val_accuracy: 0.7394\n",
      "Epoch 63/100\n",
      "96/96 - 18s - loss: 0.1747 - accuracy: 0.9930 - val_loss: 16.8391 - val_accuracy: 0.7704\n",
      "Epoch 64/100\n",
      "96/96 - 18s - loss: 0.0905 - accuracy: 0.9961 - val_loss: 15.7992 - val_accuracy: 0.7761\n",
      "Epoch 65/100\n",
      "96/96 - 17s - loss: 0.0782 - accuracy: 0.9964 - val_loss: 16.3175 - val_accuracy: 0.7695\n",
      "Epoch 66/100\n",
      "96/96 - 17s - loss: 0.0407 - accuracy: 0.9977 - val_loss: 16.0667 - val_accuracy: 0.7809\n",
      "Epoch 67/100\n",
      "96/96 - 17s - loss: 0.0762 - accuracy: 0.9974 - val_loss: 16.3022 - val_accuracy: 0.7720\n",
      "Epoch 68/100\n",
      "96/96 - 18s - loss: 0.2068 - accuracy: 0.9951 - val_loss: 14.1061 - val_accuracy: 0.7891\n",
      "Epoch 69/100\n",
      "96/96 - 18s - loss: 0.2549 - accuracy: 0.9951 - val_loss: 15.6993 - val_accuracy: 0.7915\n",
      "Epoch 70/100\n",
      "96/96 - 18s - loss: 0.1437 - accuracy: 0.9953 - val_loss: 15.2807 - val_accuracy: 0.7883\n",
      "Epoch 71/100\n",
      "96/96 - 18s - loss: 0.0809 - accuracy: 0.9972 - val_loss: 15.9085 - val_accuracy: 0.7907\n",
      "Epoch 72/100\n",
      "96/96 - 17s - loss: 0.0818 - accuracy: 0.9971 - val_loss: 17.7649 - val_accuracy: 0.7581\n",
      "Epoch 73/100\n",
      "96/96 - 17s - loss: 0.1127 - accuracy: 0.9961 - val_loss: 13.0143 - val_accuracy: 0.8046\n",
      "Epoch 74/100\n",
      "96/96 - 18s - loss: 0.0529 - accuracy: 0.9987 - val_loss: 15.4391 - val_accuracy: 0.7875\n",
      "Epoch 75/100\n",
      "96/96 - 17s - loss: 0.0059 - accuracy: 0.9993 - val_loss: 14.7875 - val_accuracy: 0.7989\n",
      "Epoch 76/100\n",
      "96/96 - 17s - loss: 6.0759e-09 - accuracy: 1.0000 - val_loss: 14.7928 - val_accuracy: 0.7980\n",
      "Epoch 77/100\n",
      "96/96 - 19s - loss: 5.7653e-09 - accuracy: 1.0000 - val_loss: 14.7927 - val_accuracy: 0.7980\n",
      "Epoch 78/100\n",
      "96/96 - 19s - loss: 5.4159e-09 - accuracy: 1.0000 - val_loss: 14.7926 - val_accuracy: 0.7980\n",
      "Epoch 79/100\n",
      "96/96 - 18s - loss: 5.1053e-09 - accuracy: 1.0000 - val_loss: 14.7925 - val_accuracy: 0.7980\n",
      "Epoch 80/100\n",
      "96/96 - 17s - loss: 4.8530e-09 - accuracy: 1.0000 - val_loss: 14.7924 - val_accuracy: 0.7980\n",
      "Epoch 81/100\n",
      "96/96 - 17s - loss: 4.5812e-09 - accuracy: 1.0000 - val_loss: 14.7923 - val_accuracy: 0.7980\n"
     ]
    },
    {
     "name": "stdout",
     "output_type": "stream",
     "text": [
      "Epoch 82/100\n",
      "96/96 - 17s - loss: 4.3677e-09 - accuracy: 1.0000 - val_loss: 14.7922 - val_accuracy: 0.7980\n",
      "Epoch 83/100\n",
      "96/96 - 17s - loss: 4.1541e-09 - accuracy: 1.0000 - val_loss: 14.7921 - val_accuracy: 0.7980\n",
      "Epoch 84/100\n",
      "96/96 - 17s - loss: 3.9406e-09 - accuracy: 1.0000 - val_loss: 14.7920 - val_accuracy: 0.7980\n",
      "Epoch 85/100\n",
      "96/96 - 17s - loss: 3.7659e-09 - accuracy: 1.0000 - val_loss: 14.7919 - val_accuracy: 0.7980\n",
      "Epoch 86/100\n",
      "96/96 - 18s - loss: 3.5330e-09 - accuracy: 1.0000 - val_loss: 14.7918 - val_accuracy: 0.7980\n",
      "Epoch 87/100\n",
      "96/96 - 18s - loss: 3.3971e-09 - accuracy: 1.0000 - val_loss: 14.7917 - val_accuracy: 0.7980\n",
      "Epoch 88/100\n",
      "96/96 - 18s - loss: 3.2224e-09 - accuracy: 1.0000 - val_loss: 14.7916 - val_accuracy: 0.7980\n",
      "Epoch 89/100\n",
      "96/96 - 18s - loss: 3.0671e-09 - accuracy: 1.0000 - val_loss: 14.7915 - val_accuracy: 0.7980\n",
      "Epoch 90/100\n",
      "96/96 - 17s - loss: 2.9118e-09 - accuracy: 1.0000 - val_loss: 14.7913 - val_accuracy: 0.7980\n",
      "Epoch 91/100\n",
      "96/96 - 18s - loss: 2.7759e-09 - accuracy: 1.0000 - val_loss: 14.7912 - val_accuracy: 0.7980\n",
      "Epoch 92/100\n",
      "96/96 - 17s - loss: 2.6206e-09 - accuracy: 1.0000 - val_loss: 14.7911 - val_accuracy: 0.7980\n",
      "Epoch 93/100\n",
      "96/96 - 17s - loss: 2.5041e-09 - accuracy: 1.0000 - val_loss: 14.7910 - val_accuracy: 0.7980\n",
      "Epoch 94/100\n",
      "96/96 - 17s - loss: 2.4071e-09 - accuracy: 1.0000 - val_loss: 14.7909 - val_accuracy: 0.7980\n",
      "Epoch 95/100\n",
      "96/96 - 17s - loss: 2.2518e-09 - accuracy: 1.0000 - val_loss: 14.7908 - val_accuracy: 0.7980\n",
      "Epoch 96/100\n",
      "96/96 - 17s - loss: 2.1547e-09 - accuracy: 1.0000 - val_loss: 14.7907 - val_accuracy: 0.7980\n",
      "Epoch 97/100\n",
      "96/96 - 17s - loss: 2.0383e-09 - accuracy: 1.0000 - val_loss: 14.7906 - val_accuracy: 0.7980\n",
      "Epoch 98/100\n",
      "96/96 - 17s - loss: 1.9800e-09 - accuracy: 1.0000 - val_loss: 14.7905 - val_accuracy: 0.7980\n",
      "Epoch 99/100\n",
      "96/96 - 17s - loss: 1.8830e-09 - accuracy: 1.0000 - val_loss: 14.7904 - val_accuracy: 0.7980\n",
      "Epoch 100/100\n",
      "96/96 - 17s - loss: 1.5724e-09 - accuracy: 1.0000 - val_loss: 14.7904 - val_accuracy: 0.7980\n",
      "13/13 - 2s - loss: 14.5170 - accuracy: 0.8085\n"
     ]
    }
   ],
   "source": [
    "EXPERIMENT_NAME = \"transfer-learning-tests\"\n",
    "RUN_NAME = \"resnet152v2_Dense\"\n",
    "\n",
    "mlflow.set_experiment(EXPERIMENT_NAME)\n",
    "mlflow.set_tracking_uri('file:///E:/GoogleSync/Masters/Dissertation/MLflow/mlruns')\n",
    "\n",
    "with mlflow.start_run(run_name=RUN_NAME) as run:\n",
    "        \n",
    "        mlflow.tensorflow.autolog()\n",
    "        \n",
    "        history = model.fit(image_train, label_train, batch_size=batch_size, epochs=epochs, verbose=verbose, validation_data=(image_val, label_val), callbacks=[tensorboard_callback])\n",
    "\n",
    "        score = model.evaluate(image_test, label_test, batch_size=batch_size, verbose = verbose)\n",
    "        \n",
    "        \n",
    "        \n",
    "    \n",
    "        \n",
    "        mlflow.log_metric(\"test loss\", score[0])\n",
    "        mlflow.log_metric(\"test accuracy\", score[1])\n",
    "        mlflow.log_param(\"epochs\", epochs)\n",
    "        mlflow.log_param(\"batch_size\", batch_size)\n",
    "        "
   ]
  },
  {
   "cell_type": "code",
   "execution_count": 48,
   "id": "9f7adae3",
   "metadata": {},
   "outputs": [],
   "source": [
    "import winsound\n",
    "\n",
    "winsound.Beep(1000, 1000)"
   ]
  },
  {
   "cell_type": "markdown",
   "id": "5c01a95c",
   "metadata": {},
   "source": [
    "# ResNet 50"
   ]
  },
  {
   "cell_type": "code",
   "execution_count": 64,
   "id": "3a373f8f",
   "metadata": {},
   "outputs": [],
   "source": [
    "from tensorflow.keras.applications  import ResNet50"
   ]
  },
  {
   "cell_type": "code",
   "execution_count": 65,
   "id": "81404988",
   "metadata": {},
   "outputs": [],
   "source": [
    "resnet = ResNet50(\n",
    "    input_shape=(224,224,3),\n",
    "    weights=\"imagenet\",\n",
    "    include_top=False, # removes last layer of the resnet model\n",
    ")"
   ]
  },
  {
   "cell_type": "code",
   "execution_count": 66,
   "id": "4021ce64",
   "metadata": {},
   "outputs": [],
   "source": [
    "for layer in resnet.layers: #don't train existing weights\n",
    "    layer.trainable = False"
   ]
  },
  {
   "cell_type": "code",
   "execution_count": 67,
   "id": "0c470db8",
   "metadata": {},
   "outputs": [],
   "source": [
    "x = Flatten()(resnet.output)\n",
    "\n",
    "prediction = Dense(NUM_CLASSES, activation=\"softmax\")(x)\n",
    "\n",
    "model = Model(inputs=resnet.input, outputs=prediction)"
   ]
  },
  {
   "cell_type": "code",
   "execution_count": 68,
   "id": "6380a0a2",
   "metadata": {},
   "outputs": [
    {
     "name": "stdout",
     "output_type": "stream",
     "text": [
      "Model: \"model_2\"\n",
      "__________________________________________________________________________________________________\n",
      "Layer (type)                    Output Shape         Param #     Connected to                     \n",
      "==================================================================================================\n",
      "Total params: 33,823,718\n",
      "Trainable params: 10,236,006\n",
      "Non-trainable params: 23,587,712\n",
      "__________________________________________________________________________________________________\n"
     ]
    }
   ],
   "source": [
    "model.summary()"
   ]
  },
  {
   "cell_type": "code",
   "execution_count": 69,
   "id": "07726a08",
   "metadata": {},
   "outputs": [],
   "source": [
    "model.compile(\n",
    "    loss=\"categorical_crossentropy\",\n",
    "    optimizer=\"adam\",\n",
    "    metrics=[\"accuracy\"]\n",
    ")"
   ]
  },
  {
   "cell_type": "code",
   "execution_count": 71,
   "id": "d1f80435",
   "metadata": {},
   "outputs": [],
   "source": [
    "batch_size = 64\n",
    "epochs = 100\n",
    "verbose= 2"
   ]
  },
  {
   "cell_type": "code",
   "execution_count": 72,
   "id": "ba99e1bc",
   "metadata": {},
   "outputs": [
    {
     "name": "stderr",
     "output_type": "stream",
     "text": [
      "2021/08/19 11:12:49 WARNING mlflow.utils.autologging_utils: You are using an unsupported version of tensorflow. If you encounter errors during autologging, try upgrading / downgrading tensorflow to a supported version, or try upgrading MLflow.\n"
     ]
    },
    {
     "name": "stdout",
     "output_type": "stream",
     "text": [
      "WARNING:tensorflow:Model failed to serialize as JSON. Ignoring... 'input_4_ib-0'\n"
     ]
    },
    {
     "name": "stderr",
     "output_type": "stream",
     "text": [
      "WARNING:tensorflow:Model failed to serialize as JSON. Ignoring... 'input_4_ib-0'\n"
     ]
    },
    {
     "name": "stdout",
     "output_type": "stream",
     "text": [
      "Epoch 1/100\n",
      "96/96 - 12s - loss: 19.3061 - accuracy: 0.0445 - val_loss: 6.4901 - val_accuracy: 0.1002\n",
      "Epoch 2/100\n",
      "96/96 - 8s - loss: 5.2928 - accuracy: 0.1503 - val_loss: 6.0494 - val_accuracy: 0.1287\n",
      "Epoch 3/100\n",
      "96/96 - 8s - loss: 4.5913 - accuracy: 0.2164 - val_loss: 4.8543 - val_accuracy: 0.1930\n",
      "Epoch 4/100\n",
      "96/96 - 8s - loss: 4.4680 - accuracy: 0.2680 - val_loss: 5.5638 - val_accuracy: 0.1987\n",
      "Epoch 5/100\n",
      "96/96 - 8s - loss: 4.2224 - accuracy: 0.3185 - val_loss: 5.3804 - val_accuracy: 0.1751\n",
      "Epoch 6/100\n",
      "96/96 - 8s - loss: 3.5462 - accuracy: 0.3610 - val_loss: 5.3145 - val_accuracy: 0.2362\n",
      "Epoch 7/100\n",
      "96/96 - 8s - loss: 3.6589 - accuracy: 0.3825 - val_loss: 5.6481 - val_accuracy: 0.2239\n",
      "Epoch 8/100\n",
      "96/96 - 8s - loss: 3.4842 - accuracy: 0.4118 - val_loss: 4.7798 - val_accuracy: 0.2272\n",
      "Epoch 9/100\n",
      "96/96 - 8s - loss: 2.9059 - accuracy: 0.4579 - val_loss: 4.2919 - val_accuracy: 0.2573\n",
      "Epoch 10/100\n",
      "96/96 - 8s - loss: 2.6323 - accuracy: 0.4973 - val_loss: 4.2945 - val_accuracy: 0.2565\n",
      "Epoch 11/100\n",
      "96/96 - 8s - loss: 2.6106 - accuracy: 0.4999 - val_loss: 4.7246 - val_accuracy: 0.2679\n",
      "Epoch 12/100\n",
      "96/96 - 8s - loss: 2.6912 - accuracy: 0.5108 - val_loss: 6.0836 - val_accuracy: 0.2305\n",
      "Epoch 13/100\n",
      "96/96 - 8s - loss: 2.8193 - accuracy: 0.5326 - val_loss: 4.5433 - val_accuracy: 0.2777\n",
      "Epoch 14/100\n",
      "96/96 - 8s - loss: 2.4019 - accuracy: 0.5686 - val_loss: 4.6343 - val_accuracy: 0.2883\n",
      "Epoch 15/100\n",
      "96/96 - 8s - loss: 2.2425 - accuracy: 0.5629 - val_loss: 4.2401 - val_accuracy: 0.2956\n",
      "Epoch 16/100\n",
      "96/96 - 8s - loss: 2.3711 - accuracy: 0.5778 - val_loss: 5.6292 - val_accuracy: 0.2655\n",
      "Epoch 17/100\n",
      "96/96 - 8s - loss: 2.2379 - accuracy: 0.5945 - val_loss: 4.6864 - val_accuracy: 0.3037\n",
      "Epoch 18/100\n",
      "96/96 - 9s - loss: 1.9240 - accuracy: 0.6359 - val_loss: 4.7923 - val_accuracy: 0.2842\n",
      "Epoch 19/100\n",
      "96/96 - 9s - loss: 2.1986 - accuracy: 0.6134 - val_loss: 4.3924 - val_accuracy: 0.3274\n",
      "Epoch 20/100\n",
      "96/96 - 9s - loss: 2.0033 - accuracy: 0.6318 - val_loss: 5.3220 - val_accuracy: 0.2712\n",
      "Epoch 21/100\n",
      "96/96 - 8s - loss: 1.8784 - accuracy: 0.6457 - val_loss: 4.4775 - val_accuracy: 0.3143\n",
      "Epoch 22/100\n",
      "96/96 - 8s - loss: 1.6140 - accuracy: 0.6729 - val_loss: 4.3784 - val_accuracy: 0.2997\n",
      "Epoch 23/100\n",
      "96/96 - 9s - loss: 1.6149 - accuracy: 0.6849 - val_loss: 5.0843 - val_accuracy: 0.3086\n",
      "Epoch 24/100\n",
      "96/96 - 9s - loss: 1.7017 - accuracy: 0.6657 - val_loss: 4.4953 - val_accuracy: 0.3135\n",
      "Epoch 25/100\n",
      "96/96 - 8s - loss: 1.4434 - accuracy: 0.6999 - val_loss: 4.9966 - val_accuracy: 0.2891\n",
      "Epoch 26/100\n",
      "96/96 - 8s - loss: 1.9899 - accuracy: 0.6574 - val_loss: 4.8570 - val_accuracy: 0.2752\n",
      "Epoch 27/100\n",
      "96/96 - 8s - loss: 1.4307 - accuracy: 0.7237 - val_loss: 4.9348 - val_accuracy: 0.3290\n",
      "Epoch 28/100\n",
      "96/96 - 8s - loss: 2.0795 - accuracy: 0.6921 - val_loss: 4.8322 - val_accuracy: 0.3062\n",
      "Epoch 29/100\n",
      "96/96 - 8s - loss: 1.4820 - accuracy: 0.7300 - val_loss: 4.5104 - val_accuracy: 0.3225\n",
      "Epoch 30/100\n",
      "96/96 - 8s - loss: 1.4716 - accuracy: 0.7144 - val_loss: 5.0394 - val_accuracy: 0.3103\n",
      "Epoch 31/100\n",
      "96/96 - 8s - loss: 1.3018 - accuracy: 0.7380 - val_loss: 5.1009 - val_accuracy: 0.3078\n",
      "Epoch 32/100\n",
      "96/96 - 8s - loss: 1.3304 - accuracy: 0.7520 - val_loss: 5.7971 - val_accuracy: 0.3461\n",
      "Epoch 33/100\n",
      "96/96 - 8s - loss: 1.5412 - accuracy: 0.7298 - val_loss: 5.4578 - val_accuracy: 0.3200\n",
      "Epoch 34/100\n",
      "96/96 - 8s - loss: 1.6842 - accuracy: 0.7173 - val_loss: 5.4933 - val_accuracy: 0.3371\n",
      "Epoch 35/100\n",
      "96/96 - 8s - loss: 1.5075 - accuracy: 0.7479 - val_loss: 5.6069 - val_accuracy: 0.3445\n",
      "Epoch 36/100\n",
      "96/96 - 8s - loss: 1.6842 - accuracy: 0.7326 - val_loss: 5.3550 - val_accuracy: 0.3160\n",
      "Epoch 37/100\n",
      "96/96 - 8s - loss: 1.4416 - accuracy: 0.7284 - val_loss: 4.7794 - val_accuracy: 0.3306\n",
      "Epoch 38/100\n",
      "96/96 - 8s - loss: 1.5733 - accuracy: 0.7492 - val_loss: 6.6001 - val_accuracy: 0.2630\n",
      "Epoch 39/100\n",
      "96/96 - 8s - loss: 1.4380 - accuracy: 0.7504 - val_loss: 4.7442 - val_accuracy: 0.3803\n",
      "Epoch 40/100\n",
      "96/96 - 8s - loss: 1.1943 - accuracy: 0.7727 - val_loss: 6.0660 - val_accuracy: 0.3111\n",
      "Epoch 41/100\n",
      "96/96 - 8s - loss: 1.1910 - accuracy: 0.7872 - val_loss: 5.2121 - val_accuracy: 0.3265\n",
      "Epoch 42/100\n",
      "96/96 - 8s - loss: 0.9165 - accuracy: 0.8249 - val_loss: 5.6278 - val_accuracy: 0.3046\n",
      "Epoch 43/100\n",
      "96/96 - 8s - loss: 1.3902 - accuracy: 0.7771 - val_loss: 4.9147 - val_accuracy: 0.3453\n",
      "Epoch 44/100\n",
      "96/96 - 8s - loss: 1.1098 - accuracy: 0.7978 - val_loss: 5.9318 - val_accuracy: 0.3005\n",
      "Epoch 45/100\n",
      "96/96 - 8s - loss: 1.1623 - accuracy: 0.7857 - val_loss: 5.4691 - val_accuracy: 0.3176\n",
      "Epoch 46/100\n",
      "96/96 - 8s - loss: 1.5030 - accuracy: 0.7684 - val_loss: 6.0589 - val_accuracy: 0.3184\n",
      "Epoch 47/100\n",
      "96/96 - 8s - loss: 1.3053 - accuracy: 0.7839 - val_loss: 5.5273 - val_accuracy: 0.3241\n",
      "Epoch 48/100\n",
      "96/96 - 8s - loss: 1.1938 - accuracy: 0.7916 - val_loss: 6.2663 - val_accuracy: 0.3135\n",
      "Epoch 49/100\n",
      "96/96 - 8s - loss: 1.2307 - accuracy: 0.7759 - val_loss: 6.5594 - val_accuracy: 0.2834\n",
      "Epoch 50/100\n",
      "96/96 - 8s - loss: 1.3017 - accuracy: 0.7754 - val_loss: 5.7473 - val_accuracy: 0.3298\n",
      "Epoch 51/100\n",
      "96/96 - 8s - loss: 0.9986 - accuracy: 0.8243 - val_loss: 5.4824 - val_accuracy: 0.3388\n",
      "Epoch 52/100\n",
      "96/96 - 8s - loss: 1.1959 - accuracy: 0.7965 - val_loss: 5.8592 - val_accuracy: 0.3542\n",
      "Epoch 53/100\n",
      "96/96 - 8s - loss: 1.1673 - accuracy: 0.7953 - val_loss: 5.2278 - val_accuracy: 0.3656\n",
      "Epoch 54/100\n",
      "96/96 - 8s - loss: 1.0320 - accuracy: 0.8067 - val_loss: 6.1494 - val_accuracy: 0.3233\n",
      "Epoch 55/100\n",
      "96/96 - 8s - loss: 1.0063 - accuracy: 0.8249 - val_loss: 5.8443 - val_accuracy: 0.3021\n",
      "Epoch 56/100\n",
      "96/96 - 8s - loss: 1.2761 - accuracy: 0.8207 - val_loss: 5.8545 - val_accuracy: 0.3257\n",
      "Epoch 57/100\n",
      "96/96 - 8s - loss: 0.8511 - accuracy: 0.8487 - val_loss: 5.8094 - val_accuracy: 0.3331\n",
      "Epoch 58/100\n",
      "96/96 - 8s - loss: 1.0743 - accuracy: 0.8372 - val_loss: 7.2087 - val_accuracy: 0.2972\n",
      "Epoch 59/100\n",
      "96/96 - 8s - loss: 1.3494 - accuracy: 0.8049 - val_loss: 6.6365 - val_accuracy: 0.3257\n",
      "Epoch 60/100\n",
      "96/96 - 8s - loss: 0.9170 - accuracy: 0.8411 - val_loss: 6.2199 - val_accuracy: 0.3119\n",
      "Epoch 61/100\n",
      "96/96 - 8s - loss: 1.6231 - accuracy: 0.7754 - val_loss: 7.2013 - val_accuracy: 0.3176\n",
      "Epoch 62/100\n",
      "96/96 - 8s - loss: 1.0684 - accuracy: 0.8253 - val_loss: 6.0627 - val_accuracy: 0.3453\n",
      "Epoch 63/100\n",
      "96/96 - 8s - loss: 0.9296 - accuracy: 0.8243 - val_loss: 6.3766 - val_accuracy: 0.3477\n",
      "Epoch 64/100\n",
      "96/96 - 8s - loss: 0.8876 - accuracy: 0.8460 - val_loss: 6.4133 - val_accuracy: 0.3200\n",
      "Epoch 65/100\n",
      "96/96 - 8s - loss: 1.0104 - accuracy: 0.8352 - val_loss: 5.5902 - val_accuracy: 0.3852\n",
      "Epoch 66/100\n",
      "96/96 - 8s - loss: 0.9029 - accuracy: 0.8388 - val_loss: 6.6035 - val_accuracy: 0.3151\n",
      "Epoch 67/100\n",
      "96/96 - 8s - loss: 0.6657 - accuracy: 0.8710 - val_loss: 6.4405 - val_accuracy: 0.3347\n",
      "Epoch 68/100\n",
      "96/96 - 8s - loss: 1.2782 - accuracy: 0.8064 - val_loss: 6.2553 - val_accuracy: 0.3265\n",
      "Epoch 69/100\n",
      "96/96 - 8s - loss: 1.2778 - accuracy: 0.8297 - val_loss: 7.1648 - val_accuracy: 0.3404\n",
      "Epoch 70/100\n",
      "96/96 - 8s - loss: 1.3042 - accuracy: 0.8162 - val_loss: 7.0151 - val_accuracy: 0.3111\n",
      "Epoch 71/100\n",
      "96/96 - 8s - loss: 1.0157 - accuracy: 0.8306 - val_loss: 7.2026 - val_accuracy: 0.3412\n",
      "Epoch 72/100\n",
      "96/96 - 8s - loss: 1.0221 - accuracy: 0.8269 - val_loss: 7.0868 - val_accuracy: 0.3322\n",
      "Epoch 73/100\n",
      "96/96 - 8s - loss: 0.9563 - accuracy: 0.8451 - val_loss: 5.6694 - val_accuracy: 0.3827\n",
      "Epoch 74/100\n",
      "96/96 - 8s - loss: 0.7141 - accuracy: 0.8657 - val_loss: 6.3217 - val_accuracy: 0.3567\n",
      "Epoch 75/100\n",
      "96/96 - 8s - loss: 0.8942 - accuracy: 0.8456 - val_loss: 7.2397 - val_accuracy: 0.3257\n",
      "Epoch 76/100\n",
      "96/96 - 8s - loss: 1.9049 - accuracy: 0.7870 - val_loss: 7.9260 - val_accuracy: 0.2972\n",
      "Epoch 77/100\n",
      "96/96 - 8s - loss: 1.1931 - accuracy: 0.8292 - val_loss: 6.5661 - val_accuracy: 0.3599\n",
      "Epoch 78/100\n",
      "96/96 - 8s - loss: 0.6738 - accuracy: 0.8609 - val_loss: 6.6843 - val_accuracy: 0.3103\n",
      "Epoch 79/100\n",
      "96/96 - 8s - loss: 0.7120 - accuracy: 0.8735 - val_loss: 6.2188 - val_accuracy: 0.3477\n",
      "Epoch 80/100\n",
      "96/96 - 8s - loss: 0.6046 - accuracy: 0.8834 - val_loss: 5.7318 - val_accuracy: 0.3607\n",
      "Epoch 81/100\n",
      "96/96 - 8s - loss: 0.6149 - accuracy: 0.8899 - val_loss: 5.7012 - val_accuracy: 0.3958\n",
      "Epoch 82/100\n",
      "96/96 - 8s - loss: 0.4555 - accuracy: 0.9020 - val_loss: 5.4730 - val_accuracy: 0.3909\n"
     ]
    },
    {
     "name": "stdout",
     "output_type": "stream",
     "text": [
      "Epoch 83/100\n",
      "96/96 - 8s - loss: 0.4962 - accuracy: 0.8984 - val_loss: 6.3307 - val_accuracy: 0.3274\n",
      "Epoch 84/100\n",
      "96/96 - 8s - loss: 0.7123 - accuracy: 0.8904 - val_loss: 7.1037 - val_accuracy: 0.3445\n",
      "Epoch 85/100\n",
      "96/96 - 8s - loss: 1.0259 - accuracy: 0.8574 - val_loss: 7.2559 - val_accuracy: 0.3404\n",
      "Epoch 86/100\n",
      "96/96 - 8s - loss: 0.9330 - accuracy: 0.8595 - val_loss: 6.4292 - val_accuracy: 0.3518\n",
      "Epoch 87/100\n",
      "96/96 - 8s - loss: 0.9333 - accuracy: 0.8617 - val_loss: 6.3466 - val_accuracy: 0.3648\n",
      "Epoch 88/100\n",
      "96/96 - 8s - loss: 0.7172 - accuracy: 0.8829 - val_loss: 6.6319 - val_accuracy: 0.3404\n",
      "Epoch 89/100\n",
      "96/96 - 8s - loss: 0.9501 - accuracy: 0.8438 - val_loss: 7.9992 - val_accuracy: 0.3347\n",
      "Epoch 90/100\n",
      "96/96 - 8s - loss: 0.8309 - accuracy: 0.8645 - val_loss: 8.5623 - val_accuracy: 0.3062\n",
      "Epoch 91/100\n",
      "96/96 - 8s - loss: 1.3957 - accuracy: 0.8341 - val_loss: 8.8369 - val_accuracy: 0.2891\n",
      "Epoch 92/100\n",
      "96/96 - 8s - loss: 1.3652 - accuracy: 0.8565 - val_loss: 8.3072 - val_accuracy: 0.2842\n",
      "Epoch 93/100\n",
      "96/96 - 8s - loss: 1.5328 - accuracy: 0.8342 - val_loss: 7.0355 - val_accuracy: 0.3371\n",
      "Epoch 94/100\n",
      "96/96 - 8s - loss: 1.1284 - accuracy: 0.8336 - val_loss: 7.7682 - val_accuracy: 0.3502\n",
      "Epoch 95/100\n",
      "96/96 - 8s - loss: 0.8346 - accuracy: 0.8718 - val_loss: 6.8668 - val_accuracy: 0.3420\n",
      "Epoch 96/100\n",
      "96/96 - 8s - loss: 0.8884 - accuracy: 0.8806 - val_loss: 6.8006 - val_accuracy: 0.3404\n",
      "Epoch 97/100\n",
      "96/96 - 8s - loss: 0.8074 - accuracy: 0.8828 - val_loss: 7.6274 - val_accuracy: 0.3567\n",
      "Epoch 98/100\n",
      "96/96 - 8s - loss: 0.7625 - accuracy: 0.8896 - val_loss: 6.6007 - val_accuracy: 0.3445\n",
      "Epoch 99/100\n",
      "96/96 - 8s - loss: 0.6622 - accuracy: 0.8997 - val_loss: 7.0354 - val_accuracy: 0.3355\n",
      "Epoch 100/100\n",
      "96/96 - 8s - loss: 0.8318 - accuracy: 0.8821 - val_loss: 7.7813 - val_accuracy: 0.3184\n",
      "13/13 - 1s - loss: 8.0833 - accuracy: 0.3037\n"
     ]
    }
   ],
   "source": [
    "EXPERIMENT_NAME = \"transfer-learning-tests\"\n",
    "RUN_NAME = \"resnet_50\"\n",
    "\n",
    "mlflow.set_experiment(EXPERIMENT_NAME)\n",
    "mlflow.set_tracking_uri('file:///E:/GoogleSync/Masters/Dissertation/MLflow/mlruns')\n",
    "\n",
    "with mlflow.start_run(run_name=RUN_NAME) as run:\n",
    "        \n",
    "        mlflow.tensorflow.autolog()\n",
    "        \n",
    "        history = model.fit(image_train, label_train, batch_size=batch_size, epochs=epochs, verbose=verbose, validation_data=(image_val, label_val), callbacks=[tensorboard_callback])\n",
    "\n",
    "        score = model.evaluate(image_test, label_test, batch_size=batch_size, verbose = verbose)\n",
    "        \n",
    "        \n",
    "        \n",
    "    \n",
    "        \n",
    "        mlflow.log_metric(\"test loss\", score[0])\n",
    "        mlflow.log_metric(\"test accuracy\", score[1])\n",
    "        mlflow.log_param(\"epochs\", epochs)\n",
    "        mlflow.log_param(\"batch_size\", batch_size)\n",
    "        "
   ]
  },
  {
   "cell_type": "code",
   "execution_count": 73,
   "id": "d6868bf5",
   "metadata": {},
   "outputs": [],
   "source": [
    "import winsound\n",
    "\n",
    "winsound.Beep(1000, 1000)"
   ]
  },
  {
   "cell_type": "markdown",
   "id": "3294f202",
   "metadata": {},
   "source": [
    "# ResNet 101"
   ]
  },
  {
   "cell_type": "code",
   "execution_count": 74,
   "id": "852435b2",
   "metadata": {},
   "outputs": [],
   "source": [
    "from tensorflow.keras.applications  import ResNet101"
   ]
  },
  {
   "cell_type": "code",
   "execution_count": 75,
   "id": "7e638775",
   "metadata": {},
   "outputs": [
    {
     "name": "stdout",
     "output_type": "stream",
     "text": [
      "Downloading data from https://storage.googleapis.com/tensorflow/keras-applications/resnet/resnet101_weights_tf_dim_ordering_tf_kernels_notop.h5\n",
      "171450368/171446536 [==============================] - 27s 0us/step\n"
     ]
    }
   ],
   "source": [
    "resnet = ResNet101(\n",
    "    input_shape=(224,224,3),\n",
    "    weights=\"imagenet\",\n",
    "    include_top=False, # removes last layer of the resnet model\n",
    ")"
   ]
  },
  {
   "cell_type": "code",
   "execution_count": 76,
   "id": "38083ac3",
   "metadata": {},
   "outputs": [],
   "source": [
    "for layer in resnet.layers: #don't train existing weights\n",
    "    layer.trainable = False"
   ]
  },
  {
   "cell_type": "code",
   "execution_count": 77,
   "id": "cfd2787e",
   "metadata": {},
   "outputs": [],
   "source": [
    "x = Flatten()(resnet.output)\n",
    "\n",
    "prediction = Dense(NUM_CLASSES, activation=\"softmax\")(x)\n",
    "\n",
    "model = Model(inputs=resnet.input, outputs=prediction)"
   ]
  },
  {
   "cell_type": "code",
   "execution_count": 78,
   "id": "1f8a5436",
   "metadata": {},
   "outputs": [
    {
     "name": "stdout",
     "output_type": "stream",
     "text": [
      "Model: \"model_3\"\n",
      "__________________________________________________________________________________________________\n",
      "Layer (type)                    Output Shape         Param #     Connected to                     \n",
      "==================================================================================================\n",
      "Total params: 52,894,182\n",
      "Trainable params: 10,236,006\n",
      "Non-trainable params: 42,658,176\n",
      "__________________________________________________________________________________________________\n"
     ]
    }
   ],
   "source": [
    "model.summary()"
   ]
  },
  {
   "cell_type": "code",
   "execution_count": 79,
   "id": "90b8b418",
   "metadata": {},
   "outputs": [],
   "source": [
    "model.compile(\n",
    "    loss=\"categorical_crossentropy\",\n",
    "    optimizer=\"adam\",\n",
    "    metrics=[\"accuracy\"]\n",
    ")"
   ]
  },
  {
   "cell_type": "code",
   "execution_count": 61,
   "id": "b05e7909",
   "metadata": {},
   "outputs": [],
   "source": [
    "batch_size = 64\n",
    "epochs = 100\n",
    "verbose= 2"
   ]
  },
  {
   "cell_type": "code",
   "execution_count": 81,
   "id": "f3b4d4ca",
   "metadata": {},
   "outputs": [
    {
     "name": "stderr",
     "output_type": "stream",
     "text": [
      "2021/08/19 11:26:56 WARNING mlflow.utils.autologging_utils: You are using an unsupported version of tensorflow. If you encounter errors during autologging, try upgrading / downgrading tensorflow to a supported version, or try upgrading MLflow.\n"
     ]
    },
    {
     "name": "stdout",
     "output_type": "stream",
     "text": [
      "WARNING:tensorflow:Model failed to serialize as JSON. Ignoring... 'input_5_ib-0'\n"
     ]
    },
    {
     "name": "stderr",
     "output_type": "stream",
     "text": [
      "WARNING:tensorflow:Model failed to serialize as JSON. Ignoring... 'input_5_ib-0'\n"
     ]
    },
    {
     "name": "stdout",
     "output_type": "stream",
     "text": [
      "Epoch 1/100\n",
      "96/96 - 18s - loss: 10.9335 - accuracy: 0.0625 - val_loss: 5.3876 - val_accuracy: 0.0969\n",
      "Epoch 2/100\n",
      "96/96 - 12s - loss: 5.0944 - accuracy: 0.1602 - val_loss: 5.3457 - val_accuracy: 0.1474\n",
      "Epoch 3/100\n",
      "96/96 - 12s - loss: 4.1067 - accuracy: 0.2379 - val_loss: 4.7244 - val_accuracy: 0.1897\n",
      "Epoch 4/100\n",
      "96/96 - 12s - loss: 3.9981 - accuracy: 0.2833 - val_loss: 5.4359 - val_accuracy: 0.1849\n",
      "Epoch 5/100\n",
      "96/96 - 12s - loss: 3.3794 - accuracy: 0.3475 - val_loss: 4.8969 - val_accuracy: 0.1653\n",
      "Epoch 6/100\n",
      "96/96 - 12s - loss: 3.3303 - accuracy: 0.3828 - val_loss: 4.8032 - val_accuracy: 0.1963\n",
      "Epoch 7/100\n",
      "96/96 - 12s - loss: 2.9968 - accuracy: 0.4066 - val_loss: 4.8162 - val_accuracy: 0.1922\n",
      "Epoch 8/100\n",
      "96/96 - 12s - loss: 2.9610 - accuracy: 0.4325 - val_loss: 5.1579 - val_accuracy: 0.2134\n",
      "Epoch 9/100\n",
      "96/96 - 12s - loss: 2.7240 - accuracy: 0.4701 - val_loss: 4.8224 - val_accuracy: 0.2581\n",
      "Epoch 10/100\n",
      "96/96 - 12s - loss: 2.3816 - accuracy: 0.5022 - val_loss: 4.5078 - val_accuracy: 0.2410\n",
      "Epoch 11/100\n",
      "96/96 - 12s - loss: 1.9990 - accuracy: 0.5543 - val_loss: 5.0516 - val_accuracy: 0.2215\n",
      "Epoch 12/100\n",
      "96/96 - 12s - loss: 2.1985 - accuracy: 0.5551 - val_loss: 4.6357 - val_accuracy: 0.2215\n",
      "Epoch 13/100\n",
      "96/96 - 12s - loss: 2.1590 - accuracy: 0.5633 - val_loss: 4.6452 - val_accuracy: 0.2679\n",
      "Epoch 14/100\n",
      "96/96 - 12s - loss: 2.1362 - accuracy: 0.5817 - val_loss: 4.7656 - val_accuracy: 0.2655\n",
      "Epoch 15/100\n",
      "96/96 - 12s - loss: 1.8690 - accuracy: 0.6017 - val_loss: 4.7413 - val_accuracy: 0.2459\n",
      "Epoch 16/100\n",
      "96/96 - 12s - loss: 1.8109 - accuracy: 0.6178 - val_loss: 5.0602 - val_accuracy: 0.2500\n",
      "Epoch 17/100\n",
      "96/96 - 12s - loss: 1.8055 - accuracy: 0.6331 - val_loss: 4.7779 - val_accuracy: 0.2679\n",
      "Epoch 18/100\n",
      "96/96 - 12s - loss: 1.5505 - accuracy: 0.6540 - val_loss: 4.6118 - val_accuracy: 0.2655\n",
      "Epoch 19/100\n",
      "96/96 - 12s - loss: 1.3324 - accuracy: 0.7119 - val_loss: 4.0809 - val_accuracy: 0.2989\n",
      "Epoch 20/100\n",
      "96/96 - 12s - loss: 1.5096 - accuracy: 0.6779 - val_loss: 4.6175 - val_accuracy: 0.2752\n",
      "Epoch 21/100\n",
      "96/96 - 12s - loss: 1.3607 - accuracy: 0.7041 - val_loss: 4.4342 - val_accuracy: 0.3119\n",
      "Epoch 22/100\n",
      "96/96 - 13s - loss: 1.2499 - accuracy: 0.7079 - val_loss: 4.7640 - val_accuracy: 0.3054\n",
      "Epoch 23/100\n",
      "96/96 - 13s - loss: 1.3603 - accuracy: 0.7074 - val_loss: 4.7322 - val_accuracy: 0.2679\n",
      "Epoch 24/100\n",
      "96/96 - 13s - loss: 1.2695 - accuracy: 0.7171 - val_loss: 4.5467 - val_accuracy: 0.2769\n",
      "Epoch 25/100\n",
      "96/96 - 13s - loss: 1.2847 - accuracy: 0.7300 - val_loss: 4.6093 - val_accuracy: 0.3103\n",
      "Epoch 26/100\n",
      "96/96 - 13s - loss: 1.1211 - accuracy: 0.7546 - val_loss: 4.8549 - val_accuracy: 0.3103\n",
      "Epoch 27/100\n",
      "96/96 - 13s - loss: 1.2641 - accuracy: 0.7295 - val_loss: 5.0497 - val_accuracy: 0.2850\n",
      "Epoch 28/100\n",
      "96/96 - 13s - loss: 1.2607 - accuracy: 0.7302 - val_loss: 4.9996 - val_accuracy: 0.2866\n",
      "Epoch 29/100\n",
      "96/96 - 13s - loss: 0.9860 - accuracy: 0.7818 - val_loss: 4.6626 - val_accuracy: 0.3265\n",
      "Epoch 30/100\n",
      "96/96 - 12s - loss: 0.9715 - accuracy: 0.7929 - val_loss: 4.6000 - val_accuracy: 0.3135\n",
      "Epoch 31/100\n",
      "96/96 - 12s - loss: 0.8662 - accuracy: 0.7979 - val_loss: 5.7917 - val_accuracy: 0.2598\n",
      "Epoch 32/100\n",
      "96/96 - 12s - loss: 1.0316 - accuracy: 0.7754 - val_loss: 4.9990 - val_accuracy: 0.2793\n",
      "Epoch 33/100\n",
      "96/96 - 12s - loss: 0.9015 - accuracy: 0.7966 - val_loss: 5.1691 - val_accuracy: 0.2809\n",
      "Epoch 34/100\n",
      "96/96 - 12s - loss: 1.0295 - accuracy: 0.7904 - val_loss: 5.2956 - val_accuracy: 0.2932\n",
      "Epoch 35/100\n",
      "96/96 - 12s - loss: 1.0771 - accuracy: 0.7820 - val_loss: 5.6475 - val_accuracy: 0.2785\n",
      "Epoch 36/100\n",
      "96/96 - 12s - loss: 1.1821 - accuracy: 0.7722 - val_loss: 5.4311 - val_accuracy: 0.2687\n",
      "Epoch 37/100\n",
      "96/96 - 12s - loss: 0.9235 - accuracy: 0.8008 - val_loss: 5.7816 - val_accuracy: 0.2801\n",
      "Epoch 38/100\n",
      "96/96 - 12s - loss: 0.9136 - accuracy: 0.7966 - val_loss: 4.7970 - val_accuracy: 0.3241\n",
      "Epoch 39/100\n",
      "96/96 - 12s - loss: 0.9563 - accuracy: 0.8056 - val_loss: 6.0986 - val_accuracy: 0.2484\n",
      "Epoch 40/100\n",
      "96/96 - 12s - loss: 0.9485 - accuracy: 0.7986 - val_loss: 5.1156 - val_accuracy: 0.3013\n",
      "Epoch 41/100\n",
      "96/96 - 13s - loss: 1.0712 - accuracy: 0.8025 - val_loss: 6.1906 - val_accuracy: 0.2883\n",
      "Epoch 42/100\n",
      "96/96 - 12s - loss: 0.8557 - accuracy: 0.8214 - val_loss: 5.7187 - val_accuracy: 0.2907\n",
      "Epoch 43/100\n",
      "96/96 - 12s - loss: 1.0080 - accuracy: 0.8246 - val_loss: 4.9926 - val_accuracy: 0.3274\n",
      "Epoch 44/100\n",
      "96/96 - 12s - loss: 1.1718 - accuracy: 0.7974 - val_loss: 5.9635 - val_accuracy: 0.2834\n",
      "Epoch 45/100\n",
      "96/96 - 12s - loss: 0.8099 - accuracy: 0.8363 - val_loss: 6.2366 - val_accuracy: 0.2972\n",
      "Epoch 46/100\n",
      "96/96 - 12s - loss: 1.0761 - accuracy: 0.8087 - val_loss: 4.8064 - val_accuracy: 0.3265\n",
      "Epoch 47/100\n",
      "96/96 - 13s - loss: 0.5874 - accuracy: 0.8740 - val_loss: 5.0675 - val_accuracy: 0.3200\n",
      "Epoch 48/100\n",
      "96/96 - 13s - loss: 0.7777 - accuracy: 0.8569 - val_loss: 5.5368 - val_accuracy: 0.3119\n",
      "Epoch 49/100\n",
      "96/96 - 12s - loss: 0.7307 - accuracy: 0.8528 - val_loss: 5.3863 - val_accuracy: 0.3298\n",
      "Epoch 50/100\n",
      "96/96 - 12s - loss: 0.7041 - accuracy: 0.8531 - val_loss: 6.2941 - val_accuracy: 0.2769\n",
      "Epoch 51/100\n",
      "96/96 - 13s - loss: 1.0159 - accuracy: 0.8210 - val_loss: 6.1628 - val_accuracy: 0.2801\n",
      "Epoch 52/100\n",
      "96/96 - 12s - loss: 1.3074 - accuracy: 0.7763 - val_loss: 7.0243 - val_accuracy: 0.3103\n",
      "Epoch 53/100\n",
      "96/96 - 12s - loss: 0.7705 - accuracy: 0.8453 - val_loss: 5.4500 - val_accuracy: 0.3363\n",
      "Epoch 54/100\n",
      "96/96 - 13s - loss: 0.7036 - accuracy: 0.8595 - val_loss: 6.2904 - val_accuracy: 0.2972\n",
      "Epoch 55/100\n",
      "96/96 - 13s - loss: 0.8938 - accuracy: 0.8468 - val_loss: 5.8622 - val_accuracy: 0.3241\n",
      "Epoch 56/100\n",
      "96/96 - 12s - loss: 0.5293 - accuracy: 0.8854 - val_loss: 6.2774 - val_accuracy: 0.2989\n",
      "Epoch 57/100\n",
      "96/96 - 12s - loss: 1.0813 - accuracy: 0.8199 - val_loss: 6.0106 - val_accuracy: 0.2997\n",
      "Epoch 58/100\n",
      "96/96 - 12s - loss: 0.5007 - accuracy: 0.8938 - val_loss: 5.1430 - val_accuracy: 0.3681\n",
      "Epoch 59/100\n",
      "96/96 - 13s - loss: 0.6228 - accuracy: 0.8806 - val_loss: 5.4287 - val_accuracy: 0.3151\n",
      "Epoch 60/100\n",
      "96/96 - 13s - loss: 0.5390 - accuracy: 0.8862 - val_loss: 5.3956 - val_accuracy: 0.3257\n",
      "Epoch 61/100\n",
      "96/96 - 12s - loss: 0.5355 - accuracy: 0.8881 - val_loss: 5.6105 - val_accuracy: 0.3135\n",
      "Epoch 62/100\n",
      "96/96 - 12s - loss: 1.2027 - accuracy: 0.8267 - val_loss: 6.9198 - val_accuracy: 0.3217\n",
      "Epoch 63/100\n",
      "96/96 - 12s - loss: 0.6539 - accuracy: 0.8788 - val_loss: 5.4634 - val_accuracy: 0.3282\n",
      "Epoch 64/100\n",
      "96/96 - 12s - loss: 0.3786 - accuracy: 0.9156 - val_loss: 5.7610 - val_accuracy: 0.3217\n",
      "Epoch 65/100\n",
      "96/96 - 12s - loss: 0.8329 - accuracy: 0.8622 - val_loss: 6.6804 - val_accuracy: 0.2728\n",
      "Epoch 66/100\n",
      "96/96 - 12s - loss: 0.8222 - accuracy: 0.8533 - val_loss: 6.1077 - val_accuracy: 0.3176\n",
      "Epoch 67/100\n",
      "96/96 - 12s - loss: 0.7550 - accuracy: 0.8523 - val_loss: 6.0130 - val_accuracy: 0.3274\n",
      "Epoch 68/100\n",
      "96/96 - 12s - loss: 0.5204 - accuracy: 0.9020 - val_loss: 5.6606 - val_accuracy: 0.3412\n",
      "Epoch 69/100\n",
      "96/96 - 12s - loss: 0.4370 - accuracy: 0.9005 - val_loss: 5.6951 - val_accuracy: 0.3274\n",
      "Epoch 70/100\n",
      "96/96 - 12s - loss: 0.4453 - accuracy: 0.9051 - val_loss: 5.8724 - val_accuracy: 0.3363\n",
      "Epoch 71/100\n",
      "96/96 - 12s - loss: 0.5295 - accuracy: 0.9096 - val_loss: 5.6296 - val_accuracy: 0.3388\n",
      "Epoch 72/100\n",
      "96/96 - 12s - loss: 0.2692 - accuracy: 0.9323 - val_loss: 5.2001 - val_accuracy: 0.3550\n",
      "Epoch 73/100\n",
      "96/96 - 12s - loss: 0.8776 - accuracy: 0.8663 - val_loss: 8.7763 - val_accuracy: 0.2736\n",
      "Epoch 74/100\n",
      "96/96 - 12s - loss: 1.6826 - accuracy: 0.8191 - val_loss: 6.5139 - val_accuracy: 0.3168\n",
      "Epoch 75/100\n",
      "96/96 - 12s - loss: 0.4681 - accuracy: 0.9174 - val_loss: 6.1172 - val_accuracy: 0.3396\n",
      "Epoch 76/100\n",
      "96/96 - 12s - loss: 0.6157 - accuracy: 0.9013 - val_loss: 6.6755 - val_accuracy: 0.3013\n",
      "Epoch 77/100\n",
      "96/96 - 12s - loss: 1.0360 - accuracy: 0.8606 - val_loss: 7.4746 - val_accuracy: 0.3005\n",
      "Epoch 78/100\n",
      "96/96 - 12s - loss: 0.7658 - accuracy: 0.8627 - val_loss: 7.5914 - val_accuracy: 0.2679\n",
      "Epoch 79/100\n",
      "96/96 - 12s - loss: 0.7367 - accuracy: 0.8819 - val_loss: 5.7773 - val_accuracy: 0.3453\n",
      "Epoch 80/100\n",
      "96/96 - 12s - loss: 0.4142 - accuracy: 0.9184 - val_loss: 6.9014 - val_accuracy: 0.2972\n",
      "Epoch 81/100\n",
      "96/96 - 12s - loss: 0.8284 - accuracy: 0.8784 - val_loss: 6.6954 - val_accuracy: 0.2899\n",
      "Epoch 82/100\n",
      "96/96 - 12s - loss: 0.5271 - accuracy: 0.8984 - val_loss: 6.5290 - val_accuracy: 0.3168\n"
     ]
    },
    {
     "name": "stdout",
     "output_type": "stream",
     "text": [
      "Epoch 83/100\n",
      "96/96 - 12s - loss: 0.5516 - accuracy: 0.9117 - val_loss: 6.3961 - val_accuracy: 0.3265\n",
      "Epoch 84/100\n",
      "96/96 - 12s - loss: 0.4772 - accuracy: 0.9038 - val_loss: 6.4370 - val_accuracy: 0.3160\n",
      "Epoch 85/100\n",
      "96/96 - 12s - loss: 0.4132 - accuracy: 0.9166 - val_loss: 5.9656 - val_accuracy: 0.3445\n",
      "Epoch 86/100\n",
      "96/96 - 12s - loss: 0.1774 - accuracy: 0.9534 - val_loss: 5.8776 - val_accuracy: 0.3428\n",
      "Epoch 87/100\n",
      "96/96 - 12s - loss: 0.4087 - accuracy: 0.9243 - val_loss: 6.9567 - val_accuracy: 0.3412\n",
      "Epoch 88/100\n",
      "96/96 - 12s - loss: 0.5369 - accuracy: 0.9171 - val_loss: 6.2241 - val_accuracy: 0.3257\n",
      "Epoch 89/100\n",
      "96/96 - 12s - loss: 0.3383 - accuracy: 0.9419 - val_loss: 6.2139 - val_accuracy: 0.3371\n",
      "Epoch 90/100\n",
      "96/96 - 12s - loss: 0.7495 - accuracy: 0.8878 - val_loss: 7.5751 - val_accuracy: 0.2915\n",
      "Epoch 91/100\n",
      "96/96 - 12s - loss: 0.9238 - accuracy: 0.8546 - val_loss: 8.3480 - val_accuracy: 0.2655\n",
      "Epoch 92/100\n",
      "96/96 - 12s - loss: 0.6012 - accuracy: 0.8974 - val_loss: 7.2342 - val_accuracy: 0.3233\n",
      "Epoch 93/100\n",
      "96/96 - 12s - loss: 0.8162 - accuracy: 0.8792 - val_loss: 7.0121 - val_accuracy: 0.3070\n",
      "Epoch 94/100\n",
      "96/96 - 12s - loss: 0.7198 - accuracy: 0.8911 - val_loss: 8.0175 - val_accuracy: 0.3013\n",
      "Epoch 95/100\n",
      "96/96 - 12s - loss: 1.1899 - accuracy: 0.8315 - val_loss: 10.1439 - val_accuracy: 0.3021\n",
      "Epoch 96/100\n",
      "96/96 - 12s - loss: 1.6843 - accuracy: 0.8139 - val_loss: 8.3183 - val_accuracy: 0.2948\n",
      "Epoch 97/100\n",
      "96/96 - 12s - loss: 1.1908 - accuracy: 0.8479 - val_loss: 7.8993 - val_accuracy: 0.2850\n",
      "Epoch 98/100\n",
      "96/96 - 12s - loss: 0.5157 - accuracy: 0.9134 - val_loss: 6.1783 - val_accuracy: 0.3485\n",
      "Epoch 99/100\n",
      "96/96 - 12s - loss: 0.2197 - accuracy: 0.9495 - val_loss: 6.4866 - val_accuracy: 0.3510\n",
      "Epoch 100/100\n",
      "96/96 - 12s - loss: 0.1460 - accuracy: 0.9650 - val_loss: 6.4494 - val_accuracy: 0.3559\n",
      "13/13 - 1s - loss: 6.5963 - accuracy: 0.3354\n"
     ]
    }
   ],
   "source": [
    "EXPERIMENT_NAME = \"transfer-learning-tests\"\n",
    "RUN_NAME = \"resnet_101\"\n",
    "\n",
    "mlflow.set_experiment(EXPERIMENT_NAME)\n",
    "mlflow.set_tracking_uri('file:///E:/GoogleSync/Masters/Dissertation/MLflow/mlruns')\n",
    "\n",
    "with mlflow.start_run(run_name=RUN_NAME) as run:\n",
    "        \n",
    "        mlflow.tensorflow.autolog()\n",
    "        \n",
    "        history = model.fit(image_train, label_train, batch_size=batch_size, epochs=epochs, verbose=verbose, validation_data=(image_val, label_val), callbacks=[tensorboard_callback])\n",
    "\n",
    "        score = model.evaluate(image_test, label_test, batch_size=batch_size, verbose = verbose)\n",
    "        \n",
    "        \n",
    "        \n",
    "    \n",
    "        \n",
    "        mlflow.log_metric(\"test loss\", score[0])\n",
    "        mlflow.log_metric(\"test accuracy\", score[1])\n",
    "        mlflow.log_param(\"epochs\", epochs)\n",
    "        mlflow.log_param(\"batch_size\", batch_size)\n",
    "        "
   ]
  },
  {
   "cell_type": "code",
   "execution_count": 82,
   "id": "dde61910",
   "metadata": {},
   "outputs": [],
   "source": [
    "import winsound\n",
    "\n",
    "winsound.Beep(1000, 1000)"
   ]
  },
  {
   "cell_type": "code",
   "execution_count": null,
   "id": "761da27d",
   "metadata": {},
   "outputs": [],
   "source": []
  },
  {
   "cell_type": "markdown",
   "id": "c83a754a",
   "metadata": {},
   "source": [
    "# Experiment InceptionV3"
   ]
  },
  {
   "cell_type": "code",
   "execution_count": 35,
   "id": "59a01fcb",
   "metadata": {},
   "outputs": [],
   "source": [
    "model = tf.keras.applications.InceptionV3(input_shape=(224,224,3),\n",
    "    weights=\"imagenet\",\n",
    "    include_top=False,)"
   ]
  },
  {
   "cell_type": "code",
   "execution_count": 36,
   "id": "4abba910",
   "metadata": {},
   "outputs": [],
   "source": [
    "for layer in model.layers: #don't train existing weights\n",
    "    layer.trainable = False"
   ]
  },
  {
   "cell_type": "code",
   "execution_count": 37,
   "id": "0f03a645",
   "metadata": {},
   "outputs": [],
   "source": [
    "x = Flatten()(model.output)\n",
    "\n",
    "prediction = Dense(NUM_CLASSES, activation=\"softmax\")(x)\n",
    "\n",
    "model = Model(inputs=model.input, outputs=prediction)"
   ]
  },
  {
   "cell_type": "code",
   "execution_count": 38,
   "id": "704716c1",
   "metadata": {},
   "outputs": [
    {
     "name": "stdout",
     "output_type": "stream",
     "text": [
      "Model: \"model\"\n",
      "__________________________________________________________________________________________________\n",
      "Layer (type)                    Output Shape         Param #     Connected to                     \n",
      "==================================================================================================\n",
      "Total params: 27,025,286\n",
      "Trainable params: 5,222,502\n",
      "Non-trainable params: 21,802,784\n",
      "__________________________________________________________________________________________________\n",
      "None\n"
     ]
    }
   ],
   "source": [
    "print(model.summary())"
   ]
  },
  {
   "cell_type": "code",
   "execution_count": 47,
   "id": "bb928e37",
   "metadata": {},
   "outputs": [],
   "source": [
    "# base_inputs = model.layers[0].input\n",
    "# base_outputs = model.layers[-2].output\n",
    "# final_outputs = layers.Dense(102)(base_outputs)\n",
    "# model = keras.Model(inputs=base_inputs, outputs=final_outputs)\n"
   ]
  },
  {
   "cell_type": "code",
   "execution_count": 57,
   "id": "6f28e2ce",
   "metadata": {},
   "outputs": [],
   "source": [
    "model.compile(\n",
    "    loss=\"categorical_crossentropy\",\n",
    "    optimizer=\"Adam\",\n",
    "    metrics=[\"accuracy\"]\n",
    ")"
   ]
  },
  {
   "cell_type": "code",
   "execution_count": 58,
   "id": "63b90d7c",
   "metadata": {},
   "outputs": [
    {
     "name": "stdout",
     "output_type": "stream",
     "text": [
      "Model: \"model\"\n",
      "__________________________________________________________________________________________________\n",
      "Layer (type)                    Output Shape         Param #     Connected to                     \n",
      "==================================================================================================\n",
      "Total params: 27,025,286\n",
      "Trainable params: 5,222,502\n",
      "Non-trainable params: 21,802,784\n",
      "__________________________________________________________________________________________________\n",
      "None\n"
     ]
    }
   ],
   "source": [
    "print(model.summary())"
   ]
  },
  {
   "cell_type": "code",
   "execution_count": 62,
   "id": "5e9f4b60",
   "metadata": {
    "scrolled": true
   },
   "outputs": [
    {
     "name": "stderr",
     "output_type": "stream",
     "text": [
      "2021/08/19 20:24:11 WARNING mlflow.utils.autologging_utils: You are using an unsupported version of tensorflow. If you encounter errors during autologging, try upgrading / downgrading tensorflow to a supported version, or try upgrading MLflow.\n"
     ]
    },
    {
     "name": "stdout",
     "output_type": "stream",
     "text": [
      "WARNING:tensorflow:Model failed to serialize as JSON. Ignoring... 'input_1_ib-0'\n"
     ]
    },
    {
     "name": "stderr",
     "output_type": "stream",
     "text": [
      "WARNING:tensorflow:Model failed to serialize as JSON. Ignoring... 'input_1_ib-0'\n"
     ]
    },
    {
     "name": "stdout",
     "output_type": "stream",
     "text": [
      "Epoch 1/100\n",
      "96/96 - 104s - loss: 9.0094 - accuracy: 0.4843 - val_loss: 4.2289 - val_accuracy: 0.6661\n",
      "Epoch 2/100\n",
      "96/96 - 31s - loss: 1.0657 - accuracy: 0.8722 - val_loss: 3.1494 - val_accuracy: 0.6963\n",
      "Epoch 3/100\n",
      "96/96 - 29s - loss: 0.4896 - accuracy: 0.9295 - val_loss: 3.4671 - val_accuracy: 0.7028\n",
      "Epoch 4/100\n",
      "96/96 - 24s - loss: 0.3344 - accuracy: 0.9526 - val_loss: 2.9668 - val_accuracy: 0.7280\n",
      "Epoch 5/100\n",
      "96/96 - 6s - loss: 0.3504 - accuracy: 0.9520 - val_loss: 3.9596 - val_accuracy: 0.7158\n",
      "Epoch 6/100\n",
      "96/96 - 6s - loss: 0.2752 - accuracy: 0.9619 - val_loss: 4.2557 - val_accuracy: 0.7288\n",
      "Epoch 7/100\n",
      "96/96 - 6s - loss: 0.3518 - accuracy: 0.9547 - val_loss: 3.9676 - val_accuracy: 0.7378\n",
      "Epoch 8/100\n",
      "96/96 - 6s - loss: 0.5576 - accuracy: 0.9476 - val_loss: 4.9598 - val_accuracy: 0.7011\n",
      "Epoch 9/100\n",
      "96/96 - 6s - loss: 0.3273 - accuracy: 0.9622 - val_loss: 4.7348 - val_accuracy: 0.7256\n",
      "Epoch 10/100\n",
      "96/96 - 6s - loss: 0.3759 - accuracy: 0.9638 - val_loss: 4.6611 - val_accuracy: 0.7492\n",
      "Epoch 11/100\n",
      "96/96 - 6s - loss: 0.2404 - accuracy: 0.9774 - val_loss: 5.8589 - val_accuracy: 0.7101\n",
      "Epoch 12/100\n",
      "96/96 - 6s - loss: 0.1789 - accuracy: 0.9787 - val_loss: 5.0930 - val_accuracy: 0.7459\n",
      "Epoch 13/100\n",
      "96/96 - 6s - loss: 0.4251 - accuracy: 0.9617 - val_loss: 5.6202 - val_accuracy: 0.7394\n",
      "Epoch 14/100\n",
      "96/96 - 6s - loss: 0.3751 - accuracy: 0.9692 - val_loss: 5.9002 - val_accuracy: 0.7231\n",
      "Epoch 15/100\n",
      "96/96 - 6s - loss: 0.3022 - accuracy: 0.9766 - val_loss: 5.7345 - val_accuracy: 0.7467\n",
      "Epoch 16/100\n",
      "96/96 - 6s - loss: 0.1899 - accuracy: 0.9814 - val_loss: 6.4956 - val_accuracy: 0.7248\n",
      "Epoch 17/100\n",
      "96/96 - 6s - loss: 0.2513 - accuracy: 0.9777 - val_loss: 6.9806 - val_accuracy: 0.7305\n",
      "Epoch 18/100\n",
      "96/96 - 6s - loss: 0.1547 - accuracy: 0.9862 - val_loss: 7.0087 - val_accuracy: 0.7174\n",
      "Epoch 19/100\n",
      "96/96 - 6s - loss: 0.1182 - accuracy: 0.9879 - val_loss: 5.8292 - val_accuracy: 0.7541\n",
      "Epoch 20/100\n",
      "96/96 - 6s - loss: 0.2658 - accuracy: 0.9819 - val_loss: 7.5784 - val_accuracy: 0.7239\n",
      "Epoch 21/100\n",
      "96/96 - 6s - loss: 0.3120 - accuracy: 0.9787 - val_loss: 8.7824 - val_accuracy: 0.6963\n",
      "Epoch 22/100\n",
      "96/96 - 6s - loss: 0.2284 - accuracy: 0.9813 - val_loss: 7.6488 - val_accuracy: 0.7296\n",
      "Epoch 23/100\n",
      "96/96 - 6s - loss: 0.2546 - accuracy: 0.9800 - val_loss: 7.8677 - val_accuracy: 0.7174\n",
      "Epoch 24/100\n",
      "96/96 - 6s - loss: 0.2510 - accuracy: 0.9813 - val_loss: 7.1084 - val_accuracy: 0.7484\n",
      "Epoch 25/100\n",
      "96/96 - 6s - loss: 0.2178 - accuracy: 0.9837 - val_loss: 6.6243 - val_accuracy: 0.7606\n",
      "Epoch 26/100\n",
      "96/96 - 6s - loss: 0.0859 - accuracy: 0.9917 - val_loss: 8.3583 - val_accuracy: 0.7239\n",
      "Epoch 27/100\n",
      "96/96 - 6s - loss: 0.1174 - accuracy: 0.9922 - val_loss: 8.0605 - val_accuracy: 0.7541\n",
      "Epoch 28/100\n",
      "96/96 - 6s - loss: 0.3745 - accuracy: 0.9795 - val_loss: 8.5600 - val_accuracy: 0.7370\n",
      "Epoch 29/100\n",
      "96/96 - 6s - loss: 0.3783 - accuracy: 0.9762 - val_loss: 7.4157 - val_accuracy: 0.7581\n",
      "Epoch 30/100\n",
      "96/96 - 6s - loss: 0.1900 - accuracy: 0.9873 - val_loss: 8.2820 - val_accuracy: 0.7638\n",
      "Epoch 31/100\n",
      "96/96 - 6s - loss: 0.2188 - accuracy: 0.9865 - val_loss: 9.1950 - val_accuracy: 0.7451\n",
      "Epoch 32/100\n",
      "96/96 - 6s - loss: 0.3459 - accuracy: 0.9814 - val_loss: 9.3522 - val_accuracy: 0.7394\n",
      "Epoch 33/100\n",
      "96/96 - 6s - loss: 0.3006 - accuracy: 0.9795 - val_loss: 10.0556 - val_accuracy: 0.7516\n",
      "Epoch 34/100\n",
      "96/96 - 6s - loss: 0.1694 - accuracy: 0.9875 - val_loss: 10.0994 - val_accuracy: 0.7378\n",
      "Epoch 35/100\n",
      "96/96 - 6s - loss: 0.1226 - accuracy: 0.9922 - val_loss: 9.5794 - val_accuracy: 0.7467\n",
      "Epoch 36/100\n",
      "96/96 - 6s - loss: 0.0865 - accuracy: 0.9936 - val_loss: 8.3003 - val_accuracy: 0.7671\n",
      "Epoch 37/100\n",
      "96/96 - 6s - loss: 0.0658 - accuracy: 0.9948 - val_loss: 9.3055 - val_accuracy: 0.7524\n",
      "Epoch 38/100\n",
      "96/96 - 6s - loss: 0.1674 - accuracy: 0.9907 - val_loss: 10.2546 - val_accuracy: 0.7345\n",
      "Epoch 39/100\n",
      "96/96 - 6s - loss: 0.1272 - accuracy: 0.9928 - val_loss: 9.3544 - val_accuracy: 0.7549\n",
      "Epoch 40/100\n",
      "96/96 - 6s - loss: 0.2212 - accuracy: 0.9888 - val_loss: 11.1151 - val_accuracy: 0.7296\n",
      "Epoch 41/100\n",
      "96/96 - 6s - loss: 0.4124 - accuracy: 0.9818 - val_loss: 10.1866 - val_accuracy: 0.7492\n",
      "Epoch 42/100\n",
      "96/96 - 6s - loss: 0.1448 - accuracy: 0.9914 - val_loss: 11.1794 - val_accuracy: 0.7394\n",
      "Epoch 43/100\n",
      "96/96 - 6s - loss: 0.1359 - accuracy: 0.9906 - val_loss: 8.5801 - val_accuracy: 0.7622\n",
      "Epoch 44/100\n",
      "96/96 - 6s - loss: 0.1257 - accuracy: 0.9932 - val_loss: 9.9043 - val_accuracy: 0.7533\n",
      "Epoch 45/100\n",
      "96/96 - 6s - loss: 0.2086 - accuracy: 0.9888 - val_loss: 12.6346 - val_accuracy: 0.7207\n",
      "Epoch 46/100\n",
      "96/96 - 6s - loss: 0.3355 - accuracy: 0.9871 - val_loss: 9.5139 - val_accuracy: 0.7606\n",
      "Epoch 47/100\n",
      "96/96 - 6s - loss: 0.2587 - accuracy: 0.9902 - val_loss: 10.1511 - val_accuracy: 0.7622\n",
      "Epoch 48/100\n",
      "96/96 - 6s - loss: 0.2866 - accuracy: 0.9858 - val_loss: 12.6413 - val_accuracy: 0.7264\n",
      "Epoch 49/100\n",
      "96/96 - 6s - loss: 0.1966 - accuracy: 0.9896 - val_loss: 10.3559 - val_accuracy: 0.7720\n",
      "Epoch 50/100\n",
      "96/96 - 6s - loss: 0.2751 - accuracy: 0.9889 - val_loss: 12.2147 - val_accuracy: 0.7329\n",
      "Epoch 51/100\n",
      "96/96 - 6s - loss: 0.2738 - accuracy: 0.9884 - val_loss: 10.7661 - val_accuracy: 0.7679\n",
      "Epoch 52/100\n",
      "96/96 - 6s - loss: 0.2537 - accuracy: 0.9889 - val_loss: 11.5979 - val_accuracy: 0.7557\n",
      "Epoch 53/100\n",
      "96/96 - 6s - loss: 0.1868 - accuracy: 0.9936 - val_loss: 11.3681 - val_accuracy: 0.7663\n",
      "Epoch 54/100\n",
      "96/96 - 6s - loss: 0.0805 - accuracy: 0.9951 - val_loss: 10.3466 - val_accuracy: 0.7850\n",
      "Epoch 55/100\n",
      "96/96 - 6s - loss: 0.0998 - accuracy: 0.9948 - val_loss: 9.3057 - val_accuracy: 0.7818\n",
      "Epoch 56/100\n",
      "96/96 - 6s - loss: 0.0257 - accuracy: 0.9980 - val_loss: 11.0783 - val_accuracy: 0.7581\n",
      "Epoch 57/100\n",
      "96/96 - 6s - loss: 0.1243 - accuracy: 0.9943 - val_loss: 11.0060 - val_accuracy: 0.7712\n",
      "Epoch 58/100\n",
      "96/96 - 6s - loss: 0.2533 - accuracy: 0.9888 - val_loss: 14.8783 - val_accuracy: 0.7321\n",
      "Epoch 59/100\n",
      "96/96 - 6s - loss: 0.2445 - accuracy: 0.9904 - val_loss: 12.1819 - val_accuracy: 0.7736\n",
      "Epoch 60/100\n",
      "96/96 - 6s - loss: 0.0696 - accuracy: 0.9959 - val_loss: 11.7853 - val_accuracy: 0.7663\n",
      "Epoch 61/100\n",
      "96/96 - 6s - loss: 0.0176 - accuracy: 0.9989 - val_loss: 10.3576 - val_accuracy: 0.7834\n",
      "Epoch 62/100\n",
      "96/96 - 6s - loss: 0.0235 - accuracy: 0.9977 - val_loss: 11.6146 - val_accuracy: 0.7630\n",
      "Epoch 63/100\n",
      "96/96 - 6s - loss: 0.1044 - accuracy: 0.9936 - val_loss: 16.0755 - val_accuracy: 0.7166\n",
      "Epoch 64/100\n",
      "96/96 - 6s - loss: 0.3112 - accuracy: 0.9879 - val_loss: 14.4442 - val_accuracy: 0.7598\n",
      "Epoch 65/100\n",
      "96/96 - 6s - loss: 0.1987 - accuracy: 0.9907 - val_loss: 13.3563 - val_accuracy: 0.7557\n",
      "Epoch 66/100\n",
      "96/96 - 6s - loss: 0.2282 - accuracy: 0.9886 - val_loss: 17.1570 - val_accuracy: 0.7305\n",
      "Epoch 67/100\n",
      "96/96 - 6s - loss: 0.2376 - accuracy: 0.9893 - val_loss: 12.2195 - val_accuracy: 0.7883\n",
      "Epoch 68/100\n",
      "96/96 - 6s - loss: 0.3303 - accuracy: 0.9893 - val_loss: 14.5615 - val_accuracy: 0.7353\n",
      "Epoch 69/100\n",
      "96/96 - 6s - loss: 0.2275 - accuracy: 0.9920 - val_loss: 13.4407 - val_accuracy: 0.7581\n",
      "Epoch 70/100\n",
      "96/96 - 6s - loss: 0.1778 - accuracy: 0.9936 - val_loss: 15.0154 - val_accuracy: 0.7549\n",
      "Epoch 71/100\n",
      "96/96 - 6s - loss: 0.0861 - accuracy: 0.9940 - val_loss: 13.2261 - val_accuracy: 0.7679\n",
      "Epoch 72/100\n",
      "96/96 - 6s - loss: 0.1054 - accuracy: 0.9946 - val_loss: 13.1568 - val_accuracy: 0.7704\n",
      "Epoch 73/100\n",
      "96/96 - 6s - loss: 0.0590 - accuracy: 0.9967 - val_loss: 13.2994 - val_accuracy: 0.7638\n",
      "Epoch 74/100\n",
      "96/96 - 6s - loss: 0.0483 - accuracy: 0.9980 - val_loss: 13.4125 - val_accuracy: 0.7590\n",
      "Epoch 75/100\n",
      "96/96 - 6s - loss: 0.0833 - accuracy: 0.9964 - val_loss: 12.5242 - val_accuracy: 0.7850\n",
      "Epoch 76/100\n",
      "96/96 - 6s - loss: 0.0885 - accuracy: 0.9951 - val_loss: 13.3624 - val_accuracy: 0.7614\n",
      "Epoch 77/100\n",
      "96/96 - 6s - loss: 0.2431 - accuracy: 0.9893 - val_loss: 16.3995 - val_accuracy: 0.7500\n",
      "Epoch 78/100\n",
      "96/96 - 6s - loss: 0.2897 - accuracy: 0.9910 - val_loss: 14.8457 - val_accuracy: 0.7524\n",
      "Epoch 79/100\n",
      "96/96 - 6s - loss: 0.0794 - accuracy: 0.9964 - val_loss: 14.6035 - val_accuracy: 0.7533\n",
      "Epoch 80/100\n",
      "96/96 - 6s - loss: 0.0943 - accuracy: 0.9943 - val_loss: 14.5016 - val_accuracy: 0.7590\n",
      "Epoch 81/100\n",
      "96/96 - 6s - loss: 0.1745 - accuracy: 0.9930 - val_loss: 14.7941 - val_accuracy: 0.7622\n",
      "Epoch 82/100\n",
      "96/96 - 6s - loss: 0.0896 - accuracy: 0.9958 - val_loss: 14.9536 - val_accuracy: 0.7687\n"
     ]
    },
    {
     "name": "stdout",
     "output_type": "stream",
     "text": [
      "Epoch 83/100\n",
      "96/96 - 6s - loss: 0.1582 - accuracy: 0.9940 - val_loss: 14.2080 - val_accuracy: 0.7761\n",
      "Epoch 84/100\n",
      "96/96 - 6s - loss: 0.0745 - accuracy: 0.9954 - val_loss: 14.0165 - val_accuracy: 0.7923\n",
      "Epoch 85/100\n",
      "96/96 - 6s - loss: 0.0490 - accuracy: 0.9976 - val_loss: 14.8808 - val_accuracy: 0.7687\n",
      "Epoch 86/100\n",
      "96/96 - 6s - loss: 0.1488 - accuracy: 0.9941 - val_loss: 14.0334 - val_accuracy: 0.7834\n",
      "Epoch 87/100\n",
      "96/96 - 6s - loss: 0.1353 - accuracy: 0.9943 - val_loss: 14.5323 - val_accuracy: 0.7793\n",
      "Epoch 88/100\n",
      "96/96 - 6s - loss: 0.0949 - accuracy: 0.9976 - val_loss: 14.4826 - val_accuracy: 0.7818\n",
      "Epoch 89/100\n",
      "96/96 - 6s - loss: 0.1377 - accuracy: 0.9941 - val_loss: 14.1042 - val_accuracy: 0.7842\n",
      "Epoch 90/100\n",
      "96/96 - 6s - loss: 0.0949 - accuracy: 0.9961 - val_loss: 12.7067 - val_accuracy: 0.7997\n",
      "Epoch 91/100\n",
      "96/96 - 6s - loss: 0.1149 - accuracy: 0.9963 - val_loss: 12.9755 - val_accuracy: 0.7932\n",
      "Epoch 92/100\n",
      "96/96 - 6s - loss: 0.1328 - accuracy: 0.9964 - val_loss: 14.0737 - val_accuracy: 0.7769\n",
      "Epoch 93/100\n",
      "96/96 - 6s - loss: 0.1126 - accuracy: 0.9961 - val_loss: 15.1446 - val_accuracy: 0.7720\n",
      "Epoch 94/100\n",
      "96/96 - 6s - loss: 0.1701 - accuracy: 0.9930 - val_loss: 13.9550 - val_accuracy: 0.7907\n",
      "Epoch 95/100\n",
      "96/96 - 6s - loss: 0.1745 - accuracy: 0.9943 - val_loss: 17.4134 - val_accuracy: 0.7606\n",
      "Epoch 96/100\n",
      "96/96 - 6s - loss: 0.1191 - accuracy: 0.9956 - val_loss: 14.8028 - val_accuracy: 0.7818\n",
      "Epoch 97/100\n",
      "96/96 - 6s - loss: 0.1426 - accuracy: 0.9941 - val_loss: 15.8522 - val_accuracy: 0.7720\n",
      "Epoch 98/100\n",
      "96/96 - 6s - loss: 0.0307 - accuracy: 0.9993 - val_loss: 14.9598 - val_accuracy: 0.7679\n",
      "Epoch 99/100\n",
      "96/96 - 6s - loss: 1.5531e-04 - accuracy: 0.9998 - val_loss: 13.5347 - val_accuracy: 0.7891\n",
      "Epoch 100/100\n",
      "96/96 - 6s - loss: 1.5432e-08 - accuracy: 1.0000 - val_loss: 13.5343 - val_accuracy: 0.7899\n",
      "13/13 - 1s - loss: 15.0641 - accuracy: 0.8061\n"
     ]
    }
   ],
   "source": [
    "EXPERIMENT_NAME = \"transfer-learning-tests\"\n",
    "RUN_NAME = \"inception_v3\"\n",
    "\n",
    "mlflow.set_experiment(EXPERIMENT_NAME)\n",
    "mlflow.set_tracking_uri('file:///E:/GoogleSync/Masters/Dissertation/MLflow/mlruns')\n",
    "\n",
    "with mlflow.start_run(run_name=RUN_NAME) as run:\n",
    "        \n",
    "        mlflow.tensorflow.autolog()\n",
    "        \n",
    "        history = model.fit(image_train, label_train, batch_size=batch_size, epochs=epochs, verbose=verbose, validation_data=(image_val, label_val), callbacks=[tensorboard_callback])\n",
    "\n",
    "        score = model.evaluate(image_test, label_test, batch_size=batch_size, verbose = verbose)\n",
    "        \n",
    "        \n",
    "        \n",
    "    \n",
    "        \n",
    "        mlflow.log_metric(\"test loss\", score[0])\n",
    "        mlflow.log_metric(\"test accuracy\", score[1])\n",
    "        mlflow.log_param(\"epochs\", epochs)\n",
    "        mlflow.log_param(\"batch_size\", batch_size)\n",
    "        "
   ]
  },
  {
   "cell_type": "markdown",
   "id": "0b06d212",
   "metadata": {},
   "source": [
    "# VGG 16"
   ]
  },
  {
   "cell_type": "code",
   "execution_count": 34,
   "id": "c0e59283",
   "metadata": {},
   "outputs": [],
   "source": [
    "from tensorflow.keras.applications.vgg16 import VGG16"
   ]
  },
  {
   "cell_type": "code",
   "execution_count": 35,
   "id": "c857cacf",
   "metadata": {},
   "outputs": [],
   "source": [
    "base_model = VGG16(weights=\"imagenet\", include_top=False, input_shape=(224,224,3))"
   ]
  },
  {
   "cell_type": "code",
   "execution_count": 36,
   "id": "c28280be",
   "metadata": {},
   "outputs": [],
   "source": [
    "base_model.trainable = False"
   ]
  },
  {
   "cell_type": "code",
   "execution_count": 37,
   "id": "5c7a67da",
   "metadata": {},
   "outputs": [
    {
     "name": "stdout",
     "output_type": "stream",
     "text": [
      "Model: \"vgg16\"\n",
      "_________________________________________________________________\n",
      "Layer (type)                 Output Shape              Param #   \n",
      "=================================================================\n",
      "input_1 (InputLayer)         [(None, 224, 224, 3)]     0         \n",
      "_________________________________________________________________\n",
      "block1_conv1 (Conv2D)        (None, 224, 224, 64)      1792      \n",
      "_________________________________________________________________\n",
      "block1_conv2 (Conv2D)        (None, 224, 224, 64)      36928     \n",
      "_________________________________________________________________\n",
      "block1_pool (MaxPooling2D)   (None, 112, 112, 64)      0         \n",
      "_________________________________________________________________\n",
      "block2_conv1 (Conv2D)        (None, 112, 112, 128)     73856     \n",
      "_________________________________________________________________\n",
      "block2_conv2 (Conv2D)        (None, 112, 112, 128)     147584    \n",
      "_________________________________________________________________\n",
      "block2_pool (MaxPooling2D)   (None, 56, 56, 128)       0         \n",
      "_________________________________________________________________\n",
      "block3_conv1 (Conv2D)        (None, 56, 56, 256)       295168    \n",
      "_________________________________________________________________\n",
      "block3_conv2 (Conv2D)        (None, 56, 56, 256)       590080    \n",
      "_________________________________________________________________\n",
      "block3_conv3 (Conv2D)        (None, 56, 56, 256)       590080    \n",
      "_________________________________________________________________\n",
      "block3_pool (MaxPooling2D)   (None, 28, 28, 256)       0         \n",
      "_________________________________________________________________\n",
      "block4_conv1 (Conv2D)        (None, 28, 28, 512)       1180160   \n",
      "_________________________________________________________________\n",
      "block4_conv2 (Conv2D)        (None, 28, 28, 512)       2359808   \n",
      "_________________________________________________________________\n",
      "block4_conv3 (Conv2D)        (None, 28, 28, 512)       2359808   \n",
      "_________________________________________________________________\n",
      "block4_pool (MaxPooling2D)   (None, 14, 14, 512)       0         \n",
      "_________________________________________________________________\n",
      "block5_conv1 (Conv2D)        (None, 14, 14, 512)       2359808   \n",
      "_________________________________________________________________\n",
      "block5_conv2 (Conv2D)        (None, 14, 14, 512)       2359808   \n",
      "_________________________________________________________________\n",
      "block5_conv3 (Conv2D)        (None, 14, 14, 512)       2359808   \n",
      "_________________________________________________________________\n",
      "block5_pool (MaxPooling2D)   (None, 7, 7, 512)         0         \n",
      "=================================================================\n",
      "Total params: 14,714,688\n",
      "Trainable params: 0\n",
      "Non-trainable params: 14,714,688\n",
      "_________________________________________________________________\n"
     ]
    }
   ],
   "source": [
    "base_model.summary()"
   ]
  },
  {
   "cell_type": "code",
   "execution_count": 57,
   "id": "0db7f67b",
   "metadata": {},
   "outputs": [],
   "source": [
    "flatten_layer = layers.Flatten()\n",
    "dense_layer_1 = layers.Dense(50, activation='relu')\n",
    "dense_layer_2 = layers.Dense(20, activation='relu')\n",
    "prediction_layer = layers.Dense(NUM_CLASSES, activation='softmax')"
   ]
  },
  {
   "cell_type": "code",
   "execution_count": 58,
   "id": "95a2034d",
   "metadata": {},
   "outputs": [],
   "source": [
    "model = models.Sequential([\n",
    "    base_model,\n",
    "    flatten_layer,\n",
    "    dense_layer_1,\n",
    "    dense_layer_2,\n",
    "    prediction_layer\n",
    "])"
   ]
  },
  {
   "cell_type": "code",
   "execution_count": 59,
   "id": "42d689c3",
   "metadata": {},
   "outputs": [],
   "source": [
    "batch_size = 64\n",
    "epochs = 100\n",
    "verbose= 2"
   ]
  },
  {
   "cell_type": "code",
   "execution_count": 60,
   "id": "45d22b1f",
   "metadata": {},
   "outputs": [],
   "source": [
    "model.compile(\n",
    "    loss=\"categorical_crossentropy\",\n",
    "    optimizer=\"adam\",\n",
    "    metrics=[\"accuracy\"]\n",
    ")"
   ]
  },
  {
   "cell_type": "code",
   "execution_count": 61,
   "id": "ef950e24",
   "metadata": {},
   "outputs": [
    {
     "name": "stderr",
     "output_type": "stream",
     "text": [
      "2021/08/21 10:29:05 WARNING mlflow.utils.autologging_utils: You are using an unsupported version of tensorflow. If you encounter errors during autologging, try upgrading / downgrading tensorflow to a supported version, or try upgrading MLflow.\n"
     ]
    },
    {
     "name": "stdout",
     "output_type": "stream",
     "text": [
      "Epoch 1/100\n",
      "96/96 - 10s - loss: 4.5365 - accuracy: 0.0332 - val_loss: 4.4015 - val_accuracy: 0.0448\n",
      "Epoch 2/100\n",
      "96/96 - 9s - loss: 4.1167 - accuracy: 0.0874 - val_loss: 3.8298 - val_accuracy: 0.1376\n",
      "Epoch 3/100\n",
      "96/96 - 9s - loss: 3.2267 - accuracy: 0.2371 - val_loss: 2.9543 - val_accuracy: 0.2606\n",
      "Epoch 4/100\n",
      "96/96 - 9s - loss: 2.3211 - accuracy: 0.4058 - val_loss: 2.3862 - val_accuracy: 0.3730\n",
      "Epoch 5/100\n",
      "96/96 - 9s - loss: 1.7346 - accuracy: 0.5346 - val_loss: 2.1645 - val_accuracy: 0.4121\n",
      "Epoch 6/100\n",
      "96/96 - 9s - loss: 1.3762 - accuracy: 0.6318 - val_loss: 1.9224 - val_accuracy: 0.4739\n",
      "Epoch 7/100\n",
      "96/96 - 9s - loss: 1.0762 - accuracy: 0.7154 - val_loss: 1.8459 - val_accuracy: 0.4902\n",
      "Epoch 8/100\n",
      "96/96 - 9s - loss: 0.8534 - accuracy: 0.7855 - val_loss: 1.7773 - val_accuracy: 0.5179\n",
      "Epoch 9/100\n",
      "96/96 - 9s - loss: 0.6704 - accuracy: 0.8383 - val_loss: 1.8091 - val_accuracy: 0.5179\n",
      "Epoch 10/100\n",
      "96/96 - 9s - loss: 0.5229 - accuracy: 0.8847 - val_loss: 1.7837 - val_accuracy: 0.5179\n",
      "Epoch 11/100\n",
      "96/96 - 9s - loss: 0.4120 - accuracy: 0.9231 - val_loss: 1.7148 - val_accuracy: 0.5497\n",
      "Epoch 12/100\n",
      "96/96 - 9s - loss: 0.3244 - accuracy: 0.9503 - val_loss: 1.7291 - val_accuracy: 0.5513\n",
      "Epoch 13/100\n",
      "96/96 - 9s - loss: 0.2442 - accuracy: 0.9722 - val_loss: 1.7484 - val_accuracy: 0.5497\n",
      "Epoch 14/100\n",
      "96/96 - 9s - loss: 0.1922 - accuracy: 0.9803 - val_loss: 1.7381 - val_accuracy: 0.5635\n",
      "Epoch 15/100\n",
      "96/96 - 9s - loss: 0.1500 - accuracy: 0.9902 - val_loss: 1.7611 - val_accuracy: 0.5725\n",
      "Epoch 16/100\n",
      "96/96 - 9s - loss: 0.1194 - accuracy: 0.9930 - val_loss: 1.7690 - val_accuracy: 0.5717\n",
      "Epoch 17/100\n",
      "96/96 - 9s - loss: 0.0969 - accuracy: 0.9961 - val_loss: 1.7871 - val_accuracy: 0.5717\n",
      "Epoch 18/100\n",
      "96/96 - 9s - loss: 0.0762 - accuracy: 0.9990 - val_loss: 1.8121 - val_accuracy: 0.5806\n",
      "Epoch 19/100\n",
      "96/96 - 9s - loss: 0.0631 - accuracy: 0.9990 - val_loss: 1.8422 - val_accuracy: 0.5798\n",
      "Epoch 20/100\n",
      "96/96 - 9s - loss: 0.0526 - accuracy: 0.9992 - val_loss: 1.8679 - val_accuracy: 0.5765\n",
      "Epoch 21/100\n",
      "96/96 - 9s - loss: 0.0472 - accuracy: 0.9993 - val_loss: 1.8743 - val_accuracy: 0.5822\n",
      "Epoch 22/100\n",
      "96/96 - 9s - loss: 0.0371 - accuracy: 0.9995 - val_loss: 1.8907 - val_accuracy: 0.5782\n",
      "Epoch 23/100\n",
      "96/96 - 9s - loss: 0.0316 - accuracy: 0.9997 - val_loss: 1.9813 - val_accuracy: 0.5774\n",
      "Epoch 24/100\n",
      "96/96 - 9s - loss: 0.0282 - accuracy: 0.9997 - val_loss: 1.9535 - val_accuracy: 0.5790\n",
      "Epoch 25/100\n",
      "96/96 - 9s - loss: 0.0238 - accuracy: 0.9998 - val_loss: 2.0299 - val_accuracy: 0.5765\n",
      "Epoch 26/100\n",
      "96/96 - 9s - loss: 0.0215 - accuracy: 0.9998 - val_loss: 1.9960 - val_accuracy: 0.5806\n",
      "Epoch 27/100\n",
      "96/96 - 9s - loss: 0.0187 - accuracy: 0.9998 - val_loss: 2.0117 - val_accuracy: 0.5822\n",
      "Epoch 28/100\n",
      "96/96 - 9s - loss: 0.0205 - accuracy: 0.9997 - val_loss: 2.2004 - val_accuracy: 0.5676\n",
      "Epoch 29/100\n",
      "96/96 - 9s - loss: 0.0169 - accuracy: 0.9998 - val_loss: 2.0352 - val_accuracy: 0.5863\n",
      "Epoch 30/100\n",
      "96/96 - 9s - loss: 0.0133 - accuracy: 0.9998 - val_loss: 2.0735 - val_accuracy: 0.5814\n",
      "Epoch 31/100\n",
      "96/96 - 9s - loss: 0.0145 - accuracy: 0.9998 - val_loss: 2.0762 - val_accuracy: 0.5855\n",
      "Epoch 32/100\n",
      "96/96 - 9s - loss: 0.0118 - accuracy: 0.9998 - val_loss: 2.0920 - val_accuracy: 0.5920\n",
      "Epoch 33/100\n",
      "96/96 - 9s - loss: 0.0137 - accuracy: 0.9997 - val_loss: 2.1683 - val_accuracy: 0.5855\n",
      "Epoch 34/100\n",
      "96/96 - 9s - loss: 0.0127 - accuracy: 0.9997 - val_loss: 2.1257 - val_accuracy: 0.5855\n",
      "Epoch 35/100\n",
      "96/96 - 9s - loss: 0.0131 - accuracy: 0.9997 - val_loss: 2.1293 - val_accuracy: 0.5863\n",
      "Epoch 36/100\n",
      "96/96 - 9s - loss: 0.0122 - accuracy: 0.9997 - val_loss: 2.1727 - val_accuracy: 0.5863\n",
      "Epoch 37/100\n",
      "96/96 - 9s - loss: 0.0096 - accuracy: 0.9998 - val_loss: 2.2005 - val_accuracy: 0.5774\n",
      "Epoch 38/100\n",
      "96/96 - 9s - loss: 0.0081 - accuracy: 0.9998 - val_loss: 2.2097 - val_accuracy: 0.5888\n",
      "Epoch 39/100\n",
      "96/96 - 9s - loss: 0.0083 - accuracy: 0.9998 - val_loss: 2.2105 - val_accuracy: 0.5847\n",
      "Epoch 40/100\n",
      "96/96 - 9s - loss: 0.0095 - accuracy: 0.9997 - val_loss: 2.2777 - val_accuracy: 0.5831\n",
      "Epoch 41/100\n",
      "96/96 - 9s - loss: 0.0108 - accuracy: 0.9997 - val_loss: 2.2796 - val_accuracy: 0.5896\n",
      "Epoch 42/100\n",
      "96/96 - 9s - loss: 0.0087 - accuracy: 0.9997 - val_loss: 2.2979 - val_accuracy: 0.5831\n",
      "Epoch 43/100\n",
      "96/96 - 9s - loss: 0.0065 - accuracy: 0.9998 - val_loss: 2.3689 - val_accuracy: 0.5814\n",
      "Epoch 44/100\n",
      "96/96 - 9s - loss: 0.0072 - accuracy: 0.9998 - val_loss: 2.4885 - val_accuracy: 0.5749\n",
      "Epoch 45/100\n",
      "96/96 - 9s - loss: 0.0097 - accuracy: 0.9997 - val_loss: 2.3545 - val_accuracy: 0.5863\n",
      "Epoch 46/100\n",
      "96/96 - 9s - loss: 0.0095 - accuracy: 0.9997 - val_loss: 2.3982 - val_accuracy: 0.5863\n",
      "Epoch 47/100\n",
      "96/96 - 9s - loss: 0.0058 - accuracy: 0.9998 - val_loss: 2.3666 - val_accuracy: 0.5847\n",
      "Epoch 48/100\n",
      "96/96 - 9s - loss: 0.0049 - accuracy: 0.9998 - val_loss: 2.7028 - val_accuracy: 0.5472\n",
      "Epoch 49/100\n",
      "96/96 - 9s - loss: 0.0049 - accuracy: 0.9998 - val_loss: 2.5340 - val_accuracy: 0.5774\n",
      "Epoch 50/100\n",
      "96/96 - 9s - loss: 0.0063 - accuracy: 0.9998 - val_loss: 2.3950 - val_accuracy: 0.5912\n",
      "Epoch 51/100\n",
      "96/96 - 9s - loss: 0.0050 - accuracy: 0.9998 - val_loss: 2.3767 - val_accuracy: 0.5961\n",
      "Epoch 52/100\n",
      "96/96 - 9s - loss: 0.0071 - accuracy: 0.9997 - val_loss: 2.3889 - val_accuracy: 0.5969\n",
      "Epoch 53/100\n",
      "96/96 - 9s - loss: 0.0090 - accuracy: 0.9995 - val_loss: 2.5217 - val_accuracy: 0.5847\n",
      "Epoch 54/100\n",
      "96/96 - 9s - loss: 0.1319 - accuracy: 0.9630 - val_loss: 3.8444 - val_accuracy: 0.4503\n",
      "Epoch 55/100\n",
      "96/96 - 9s - loss: 0.1097 - accuracy: 0.9652 - val_loss: 2.6293 - val_accuracy: 0.5684\n",
      "Epoch 56/100\n",
      "96/96 - 9s - loss: 0.0099 - accuracy: 0.9985 - val_loss: 2.6880 - val_accuracy: 0.5611\n",
      "Epoch 57/100\n",
      "96/96 - 9s - loss: 0.0067 - accuracy: 0.9997 - val_loss: 2.5736 - val_accuracy: 0.5847\n",
      "Epoch 58/100\n",
      "96/96 - 9s - loss: 0.0042 - accuracy: 0.9998 - val_loss: 2.5854 - val_accuracy: 0.5863\n",
      "Epoch 59/100\n",
      "96/96 - 9s - loss: 0.0036 - accuracy: 0.9998 - val_loss: 2.5874 - val_accuracy: 0.5847\n",
      "Epoch 60/100\n",
      "96/96 - 9s - loss: 0.0037 - accuracy: 0.9998 - val_loss: 2.5802 - val_accuracy: 0.5831\n",
      "Epoch 61/100\n",
      "96/96 - 9s - loss: 0.0032 - accuracy: 0.9998 - val_loss: 2.6812 - val_accuracy: 0.5741\n",
      "Epoch 62/100\n",
      "96/96 - 9s - loss: 0.0052 - accuracy: 0.9997 - val_loss: 2.5975 - val_accuracy: 0.5863\n",
      "Epoch 63/100\n",
      "96/96 - 9s - loss: 0.0035 - accuracy: 0.9998 - val_loss: 2.5821 - val_accuracy: 0.5912\n",
      "Epoch 64/100\n",
      "96/96 - 9s - loss: 0.0025 - accuracy: 0.9998 - val_loss: 2.6444 - val_accuracy: 0.5806\n",
      "Epoch 65/100\n",
      "96/96 - 9s - loss: 0.0053 - accuracy: 0.9997 - val_loss: 2.5988 - val_accuracy: 0.5928\n",
      "Epoch 66/100\n",
      "96/96 - 9s - loss: 0.0051 - accuracy: 0.9997 - val_loss: 2.6525 - val_accuracy: 0.5847\n",
      "Epoch 67/100\n",
      "96/96 - 9s - loss: 0.0032 - accuracy: 0.9998 - val_loss: 2.6441 - val_accuracy: 0.5871\n",
      "Epoch 68/100\n",
      "96/96 - 9s - loss: 0.0031 - accuracy: 0.9998 - val_loss: 2.6230 - val_accuracy: 0.5888\n",
      "Epoch 69/100\n",
      "96/96 - 9s - loss: 0.0045 - accuracy: 0.9997 - val_loss: 2.7987 - val_accuracy: 0.5749\n",
      "Epoch 70/100\n",
      "96/96 - 9s - loss: 0.0031 - accuracy: 0.9998 - val_loss: 2.7021 - val_accuracy: 0.5888\n",
      "Epoch 71/100\n",
      "96/96 - 9s - loss: 0.0051 - accuracy: 0.9997 - val_loss: 2.6424 - val_accuracy: 0.5912\n",
      "Epoch 72/100\n",
      "96/96 - 9s - loss: 0.0049 - accuracy: 0.9997 - val_loss: 2.6279 - val_accuracy: 0.5953\n",
      "Epoch 73/100\n",
      "96/96 - 9s - loss: 0.0024 - accuracy: 0.9998 - val_loss: 2.7561 - val_accuracy: 0.5839\n",
      "Epoch 74/100\n",
      "96/96 - 9s - loss: 0.0053 - accuracy: 0.9997 - val_loss: 2.7201 - val_accuracy: 0.5888\n",
      "Epoch 75/100\n",
      "96/96 - 9s - loss: 0.0081 - accuracy: 0.9990 - val_loss: 2.9211 - val_accuracy: 0.5717\n",
      "Epoch 76/100\n",
      "96/96 - 9s - loss: 0.0094 - accuracy: 0.9992 - val_loss: 2.7445 - val_accuracy: 0.5969\n",
      "Epoch 77/100\n",
      "96/96 - 9s - loss: 0.0028 - accuracy: 0.9998 - val_loss: 2.7104 - val_accuracy: 0.5928\n",
      "Epoch 78/100\n",
      "96/96 - 9s - loss: 0.0030 - accuracy: 0.9998 - val_loss: 2.7242 - val_accuracy: 0.5928\n",
      "Epoch 79/100\n",
      "96/96 - 9s - loss: 0.0052 - accuracy: 0.9997 - val_loss: 2.8088 - val_accuracy: 0.5896\n",
      "Epoch 80/100\n",
      "96/96 - 9s - loss: 0.0043 - accuracy: 0.9997 - val_loss: 2.7315 - val_accuracy: 0.5969\n",
      "Epoch 81/100\n",
      "96/96 - 9s - loss: 0.0045 - accuracy: 0.9997 - val_loss: 2.7708 - val_accuracy: 0.5969\n",
      "Epoch 82/100\n",
      "96/96 - 9s - loss: 0.0030 - accuracy: 0.9998 - val_loss: 2.8582 - val_accuracy: 0.5904\n",
      "Epoch 83/100\n"
     ]
    },
    {
     "name": "stdout",
     "output_type": "stream",
     "text": [
      "96/96 - 9s - loss: 0.0029 - accuracy: 0.9998 - val_loss: 2.8506 - val_accuracy: 0.5847\n",
      "Epoch 84/100\n",
      "96/96 - 9s - loss: 0.0047 - accuracy: 0.9997 - val_loss: 3.2073 - val_accuracy: 0.5627\n",
      "Epoch 85/100\n",
      "96/96 - 9s - loss: 0.0049 - accuracy: 0.9997 - val_loss: 2.8524 - val_accuracy: 0.5839\n",
      "Epoch 86/100\n",
      "96/96 - 9s - loss: 0.0030 - accuracy: 0.9998 - val_loss: 2.7538 - val_accuracy: 0.5993\n",
      "Epoch 87/100\n",
      "96/96 - 9s - loss: 0.0025 - accuracy: 0.9998 - val_loss: 2.7654 - val_accuracy: 0.5977\n",
      "Epoch 88/100\n",
      "96/96 - 9s - loss: 0.0048 - accuracy: 0.9997 - val_loss: 2.8151 - val_accuracy: 0.5879\n",
      "Epoch 89/100\n",
      "96/96 - 9s - loss: 0.0044 - accuracy: 0.9997 - val_loss: 2.8921 - val_accuracy: 0.5879\n",
      "Epoch 90/100\n",
      "96/96 - 9s - loss: 0.0019 - accuracy: 0.9998 - val_loss: 2.9140 - val_accuracy: 0.5839\n",
      "Epoch 91/100\n",
      "96/96 - 9s - loss: 0.0045 - accuracy: 0.9997 - val_loss: 2.8301 - val_accuracy: 0.6002\n",
      "Epoch 92/100\n",
      "96/96 - 9s - loss: 0.0059 - accuracy: 0.9989 - val_loss: 3.2469 - val_accuracy: 0.5676\n",
      "Epoch 93/100\n",
      "96/96 - 9s - loss: 0.2470 - accuracy: 0.9336 - val_loss: 3.1494 - val_accuracy: 0.5570\n",
      "Epoch 94/100\n",
      "96/96 - 9s - loss: 0.0066 - accuracy: 0.9992 - val_loss: 2.9353 - val_accuracy: 0.5912\n",
      "Epoch 95/100\n",
      "96/96 - 9s - loss: 0.0031 - accuracy: 0.9997 - val_loss: 2.9279 - val_accuracy: 0.5953\n",
      "Epoch 96/100\n",
      "96/96 - 9s - loss: 0.0018 - accuracy: 0.9998 - val_loss: 2.8733 - val_accuracy: 0.5928\n",
      "Epoch 97/100\n",
      "96/96 - 9s - loss: 0.0026 - accuracy: 0.9997 - val_loss: 2.8684 - val_accuracy: 0.5977\n",
      "Epoch 98/100\n",
      "96/96 - 9s - loss: 0.0015 - accuracy: 0.9998 - val_loss: 2.8827 - val_accuracy: 0.6010\n",
      "Epoch 99/100\n",
      "96/96 - 9s - loss: 0.0015 - accuracy: 0.9998 - val_loss: 2.8707 - val_accuracy: 0.5977\n",
      "Epoch 100/100\n",
      "96/96 - 9s - loss: 0.0022 - accuracy: 0.9997 - val_loss: 2.8834 - val_accuracy: 0.5920\n",
      "INFO:tensorflow:Assets written to: C:\\Users\\yisi9\\AppData\\Local\\Temp\\tmpcp6koctf\\model\\data\\model\\assets\n"
     ]
    },
    {
     "name": "stderr",
     "output_type": "stream",
     "text": [
      "INFO:tensorflow:Assets written to: C:\\Users\\yisi9\\AppData\\Local\\Temp\\tmpcp6koctf\\model\\data\\model\\assets\n"
     ]
    },
    {
     "name": "stdout",
     "output_type": "stream",
     "text": [
      "13/13 - 4s - loss: 2.9051 - accuracy: 0.6024\n"
     ]
    }
   ],
   "source": [
    "EXPERIMENT_NAME = \"transfer-learning-tests\"\n",
    "RUN_NAME = \"vgg_16\"\n",
    "\n",
    "mlflow.set_experiment(EXPERIMENT_NAME)\n",
    "mlflow.set_tracking_uri('file:///E:/GoogleSync/Masters/Dissertation/MLflow/mlruns')\n",
    "\n",
    "with mlflow.start_run(run_name=RUN_NAME) as run:\n",
    "        \n",
    "        mlflow.tensorflow.autolog()\n",
    "        \n",
    "        history = model.fit(image_train, label_train, batch_size=batch_size, epochs=epochs, verbose=verbose, validation_data=(image_val, label_val), callbacks=[tensorboard_callback])\n",
    "\n",
    "        score = model.evaluate(image_test, label_test, batch_size=batch_size, verbose = verbose)\n",
    "        \n",
    "        \n",
    "        \n",
    "    \n",
    "        \n",
    "        mlflow.log_metric(\"test loss\", score[0])\n",
    "        mlflow.log_metric(\"test accuracy\", score[1])\n",
    "        mlflow.log_param(\"epochs\", epochs)\n",
    "        mlflow.log_param(\"batch_size\", batch_size)\n",
    "        "
   ]
  },
  {
   "cell_type": "code",
   "execution_count": null,
   "id": "7b39bf88",
   "metadata": {},
   "outputs": [],
   "source": []
  },
  {
   "cell_type": "markdown",
   "id": "676014d1",
   "metadata": {},
   "source": [
    "# VGG 19 "
   ]
  },
  {
   "cell_type": "code",
   "execution_count": 62,
   "id": "2abdac88",
   "metadata": {},
   "outputs": [],
   "source": [
    "from tensorflow.keras.applications.vgg19 import VGG19"
   ]
  },
  {
   "cell_type": "code",
   "execution_count": 63,
   "id": "56e4144b",
   "metadata": {},
   "outputs": [
    {
     "name": "stdout",
     "output_type": "stream",
     "text": [
      "Downloading data from https://storage.googleapis.com/tensorflow/keras-applications/vgg19/vgg19_weights_tf_dim_ordering_tf_kernels_notop.h5\n",
      "80142336/80134624 [==============================] - 15s 0us/step\n"
     ]
    }
   ],
   "source": [
    "base_model = VGG19(weights=\"imagenet\", include_top=False, input_shape=(224,224,3))"
   ]
  },
  {
   "cell_type": "code",
   "execution_count": 64,
   "id": "19e1a9e6",
   "metadata": {},
   "outputs": [],
   "source": [
    "for layer in base_model.layers:\n",
    "    layer.trainable = False"
   ]
  },
  {
   "cell_type": "code",
   "execution_count": 65,
   "id": "e79d578f",
   "metadata": {},
   "outputs": [
    {
     "name": "stdout",
     "output_type": "stream",
     "text": [
      "Model: \"vgg19\"\n",
      "_________________________________________________________________\n",
      "Layer (type)                 Output Shape              Param #   \n",
      "=================================================================\n",
      "input_2 (InputLayer)         [(None, 224, 224, 3)]     0         \n",
      "_________________________________________________________________\n",
      "block1_conv1 (Conv2D)        (None, 224, 224, 64)      1792      \n",
      "_________________________________________________________________\n",
      "block1_conv2 (Conv2D)        (None, 224, 224, 64)      36928     \n",
      "_________________________________________________________________\n",
      "block1_pool (MaxPooling2D)   (None, 112, 112, 64)      0         \n",
      "_________________________________________________________________\n",
      "block2_conv1 (Conv2D)        (None, 112, 112, 128)     73856     \n",
      "_________________________________________________________________\n",
      "block2_conv2 (Conv2D)        (None, 112, 112, 128)     147584    \n",
      "_________________________________________________________________\n",
      "block2_pool (MaxPooling2D)   (None, 56, 56, 128)       0         \n",
      "_________________________________________________________________\n",
      "block3_conv1 (Conv2D)        (None, 56, 56, 256)       295168    \n",
      "_________________________________________________________________\n",
      "block3_conv2 (Conv2D)        (None, 56, 56, 256)       590080    \n",
      "_________________________________________________________________\n",
      "block3_conv3 (Conv2D)        (None, 56, 56, 256)       590080    \n",
      "_________________________________________________________________\n",
      "block3_conv4 (Conv2D)        (None, 56, 56, 256)       590080    \n",
      "_________________________________________________________________\n",
      "block3_pool (MaxPooling2D)   (None, 28, 28, 256)       0         \n",
      "_________________________________________________________________\n",
      "block4_conv1 (Conv2D)        (None, 28, 28, 512)       1180160   \n",
      "_________________________________________________________________\n",
      "block4_conv2 (Conv2D)        (None, 28, 28, 512)       2359808   \n",
      "_________________________________________________________________\n",
      "block4_conv3 (Conv2D)        (None, 28, 28, 512)       2359808   \n",
      "_________________________________________________________________\n",
      "block4_conv4 (Conv2D)        (None, 28, 28, 512)       2359808   \n",
      "_________________________________________________________________\n",
      "block4_pool (MaxPooling2D)   (None, 14, 14, 512)       0         \n",
      "_________________________________________________________________\n",
      "block5_conv1 (Conv2D)        (None, 14, 14, 512)       2359808   \n",
      "_________________________________________________________________\n",
      "block5_conv2 (Conv2D)        (None, 14, 14, 512)       2359808   \n",
      "_________________________________________________________________\n",
      "block5_conv3 (Conv2D)        (None, 14, 14, 512)       2359808   \n",
      "_________________________________________________________________\n",
      "block5_conv4 (Conv2D)        (None, 14, 14, 512)       2359808   \n",
      "_________________________________________________________________\n",
      "block5_pool (MaxPooling2D)   (None, 7, 7, 512)         0         \n",
      "=================================================================\n",
      "Total params: 20,024,384\n",
      "Trainable params: 0\n",
      "Non-trainable params: 20,024,384\n",
      "_________________________________________________________________\n"
     ]
    }
   ],
   "source": [
    "base_model.summary()"
   ]
  },
  {
   "cell_type": "code",
   "execution_count": 66,
   "id": "bd1d1165",
   "metadata": {},
   "outputs": [],
   "source": [
    "flatten_layer = layers.Flatten()\n",
    "dense_layer_1 = layers.Dense(100, activation='relu')\n",
    "dense_layer_2 = layers.Dense(100, activation='relu')\n",
    "prediction_layer = layers.Dense(NUM_CLASSES, activation='softmax')"
   ]
  },
  {
   "cell_type": "code",
   "execution_count": 67,
   "id": "402547b3",
   "metadata": {},
   "outputs": [],
   "source": [
    "model = models.Sequential([\n",
    "    base_model,\n",
    "    flatten_layer,\n",
    "    dense_layer_1,\n",
    "    dense_layer_2,\n",
    "    prediction_layer\n",
    "])"
   ]
  },
  {
   "cell_type": "code",
   "execution_count": 68,
   "id": "2677dea3",
   "metadata": {},
   "outputs": [],
   "source": [
    "batch_size = 64\n",
    "epochs = 100\n",
    "verbose= 2"
   ]
  },
  {
   "cell_type": "code",
   "execution_count": 69,
   "id": "f21342d1",
   "metadata": {},
   "outputs": [],
   "source": [
    "model.compile(\n",
    "    loss=\"categorical_crossentropy\",\n",
    "    optimizer=\"adam\",\n",
    "    metrics=[\"accuracy\"]\n",
    ")"
   ]
  },
  {
   "cell_type": "code",
   "execution_count": 70,
   "id": "f1658e06",
   "metadata": {},
   "outputs": [
    {
     "name": "stderr",
     "output_type": "stream",
     "text": [
      "2021/08/21 10:47:54 WARNING mlflow.utils.autologging_utils: You are using an unsupported version of tensorflow. If you encounter errors during autologging, try upgrading / downgrading tensorflow to a supported version, or try upgrading MLflow.\n"
     ]
    },
    {
     "name": "stdout",
     "output_type": "stream",
     "text": [
      "Epoch 1/100\n",
      "96/96 - 12s - loss: 3.8857 - accuracy: 0.1456 - val_loss: 2.9380 - val_accuracy: 0.2989\n",
      "Epoch 2/100\n",
      "96/96 - 10s - loss: 2.0898 - accuracy: 0.4742 - val_loss: 1.9539 - val_accuracy: 0.4935\n",
      "Epoch 3/100\n",
      "96/96 - 10s - loss: 1.1734 - accuracy: 0.6942 - val_loss: 1.6830 - val_accuracy: 0.5480\n",
      "Epoch 4/100\n",
      "96/96 - 10s - loss: 0.7399 - accuracy: 0.8038 - val_loss: 1.4074 - val_accuracy: 0.6140\n",
      "Epoch 5/100\n",
      "96/96 - 10s - loss: 0.4753 - accuracy: 0.8821 - val_loss: 1.3401 - val_accuracy: 0.6344\n",
      "Epoch 6/100\n",
      "96/96 - 10s - loss: 0.3012 - accuracy: 0.9365 - val_loss: 1.2783 - val_accuracy: 0.6507\n",
      "Epoch 7/100\n",
      "96/96 - 10s - loss: 0.1821 - accuracy: 0.9710 - val_loss: 1.2192 - val_accuracy: 0.6653\n",
      "Epoch 8/100\n",
      "96/96 - 10s - loss: 0.1073 - accuracy: 0.9893 - val_loss: 1.2796 - val_accuracy: 0.6621\n",
      "Epoch 9/100\n",
      "96/96 - 10s - loss: 0.0692 - accuracy: 0.9961 - val_loss: 1.2365 - val_accuracy: 0.6743\n",
      "Epoch 10/100\n",
      "96/96 - 10s - loss: 0.0425 - accuracy: 0.9990 - val_loss: 1.2559 - val_accuracy: 0.6743\n",
      "Epoch 11/100\n",
      "96/96 - 10s - loss: 0.0283 - accuracy: 0.9998 - val_loss: 1.3203 - val_accuracy: 0.6621\n",
      "Epoch 12/100\n",
      "96/96 - 10s - loss: 0.0233 - accuracy: 0.9998 - val_loss: 1.2678 - val_accuracy: 0.6889\n",
      "Epoch 13/100\n",
      "96/96 - 10s - loss: 0.0191 - accuracy: 0.9997 - val_loss: 1.2727 - val_accuracy: 0.6832\n",
      "Epoch 14/100\n",
      "96/96 - 10s - loss: 0.0151 - accuracy: 0.9998 - val_loss: 1.2751 - val_accuracy: 0.6906\n",
      "Epoch 15/100\n",
      "96/96 - 10s - loss: 0.0121 - accuracy: 0.9998 - val_loss: 1.3031 - val_accuracy: 0.6954\n",
      "Epoch 16/100\n",
      "96/96 - 10s - loss: 0.0121 - accuracy: 0.9998 - val_loss: 1.2884 - val_accuracy: 0.6946\n",
      "Epoch 17/100\n",
      "96/96 - 10s - loss: 0.0114 - accuracy: 0.9997 - val_loss: 1.3788 - val_accuracy: 0.6735\n",
      "Epoch 18/100\n",
      "96/96 - 10s - loss: 0.0120 - accuracy: 0.9997 - val_loss: 1.3317 - val_accuracy: 0.6914\n",
      "Epoch 19/100\n",
      "96/96 - 10s - loss: 0.0068 - accuracy: 0.9998 - val_loss: 1.3431 - val_accuracy: 0.6954\n",
      "Epoch 20/100\n",
      "96/96 - 10s - loss: 0.0079 - accuracy: 0.9998 - val_loss: 1.3355 - val_accuracy: 0.6963\n",
      "Epoch 21/100\n",
      "96/96 - 10s - loss: 0.0076 - accuracy: 0.9997 - val_loss: 1.5476 - val_accuracy: 0.6629\n",
      "Epoch 22/100\n",
      "96/96 - 10s - loss: 0.0088 - accuracy: 0.9997 - val_loss: 1.3835 - val_accuracy: 0.6987\n",
      "Epoch 23/100\n",
      "96/96 - 10s - loss: 0.0074 - accuracy: 0.9997 - val_loss: 1.3923 - val_accuracy: 0.6971\n",
      "Epoch 24/100\n",
      "96/96 - 11s - loss: 0.0049 - accuracy: 0.9998 - val_loss: 1.3791 - val_accuracy: 0.6938\n",
      "Epoch 25/100\n",
      "96/96 - 10s - loss: 0.0043 - accuracy: 0.9998 - val_loss: 1.4563 - val_accuracy: 0.6824\n",
      "Epoch 26/100\n",
      "96/96 - 10s - loss: 0.0070 - accuracy: 0.9997 - val_loss: 1.4366 - val_accuracy: 0.6816\n",
      "Epoch 27/100\n",
      "96/96 - 10s - loss: 0.0049 - accuracy: 0.9998 - val_loss: 1.4223 - val_accuracy: 0.6922\n",
      "Epoch 28/100\n",
      "96/96 - 10s - loss: 0.0030 - accuracy: 0.9998 - val_loss: 1.4442 - val_accuracy: 0.6922\n",
      "Epoch 29/100\n",
      "96/96 - 10s - loss: 0.0046 - accuracy: 0.9998 - val_loss: 1.5396 - val_accuracy: 0.6767\n",
      "Epoch 30/100\n",
      "96/96 - 10s - loss: 0.0028 - accuracy: 0.9998 - val_loss: 1.5372 - val_accuracy: 0.6816\n",
      "Epoch 31/100\n",
      "96/96 - 10s - loss: 0.0045 - accuracy: 0.9998 - val_loss: 1.5919 - val_accuracy: 0.6849\n",
      "Epoch 32/100\n",
      "96/96 - 10s - loss: 0.0030 - accuracy: 0.9998 - val_loss: 1.5236 - val_accuracy: 0.6824\n",
      "Epoch 33/100\n",
      "96/96 - 10s - loss: 0.0061 - accuracy: 0.9997 - val_loss: 1.5434 - val_accuracy: 0.6938\n",
      "Epoch 34/100\n",
      "96/96 - 10s - loss: 0.0054 - accuracy: 0.9997 - val_loss: 1.5948 - val_accuracy: 0.6678\n",
      "Epoch 35/100\n",
      "96/96 - 10s - loss: 0.0044 - accuracy: 0.9997 - val_loss: 1.7700 - val_accuracy: 0.6637\n",
      "Epoch 36/100\n",
      "96/96 - 10s - loss: 0.0042 - accuracy: 0.9997 - val_loss: 1.5165 - val_accuracy: 0.6914\n",
      "Epoch 37/100\n",
      "96/96 - 10s - loss: 0.0025 - accuracy: 0.9997 - val_loss: 1.5053 - val_accuracy: 0.6979\n",
      "Epoch 38/100\n",
      "96/96 - 10s - loss: 0.0013 - accuracy: 0.9998 - val_loss: 1.5869 - val_accuracy: 0.6718\n",
      "Epoch 39/100\n",
      "96/96 - 10s - loss: 0.0038 - accuracy: 0.9997 - val_loss: 1.5052 - val_accuracy: 0.6938\n",
      "Epoch 40/100\n",
      "96/96 - 10s - loss: 0.0020 - accuracy: 0.9997 - val_loss: 1.6214 - val_accuracy: 0.6832\n",
      "Epoch 41/100\n",
      "96/96 - 10s - loss: 0.0024 - accuracy: 0.9997 - val_loss: 1.5660 - val_accuracy: 0.6954\n",
      "Epoch 42/100\n",
      "96/96 - 10s - loss: 0.0030 - accuracy: 0.9997 - val_loss: 1.6146 - val_accuracy: 0.6938\n",
      "Epoch 43/100\n",
      "96/96 - 10s - loss: 0.0017 - accuracy: 0.9998 - val_loss: 1.9054 - val_accuracy: 0.6555\n",
      "Epoch 44/100\n",
      "96/96 - 10s - loss: 0.0047 - accuracy: 0.9995 - val_loss: 1.7076 - val_accuracy: 0.6792\n",
      "Epoch 45/100\n",
      "96/96 - 10s - loss: 0.5224 - accuracy: 0.8487 - val_loss: 2.4098 - val_accuracy: 0.6018\n",
      "Epoch 46/100\n",
      "96/96 - 10s - loss: 0.1272 - accuracy: 0.9596 - val_loss: 2.0481 - val_accuracy: 0.6336\n",
      "Epoch 47/100\n",
      "96/96 - 10s - loss: 0.0208 - accuracy: 0.9930 - val_loss: 1.9900 - val_accuracy: 0.6515\n",
      "Epoch 48/100\n",
      "96/96 - 10s - loss: 0.0047 - accuracy: 0.9992 - val_loss: 1.7740 - val_accuracy: 0.6881\n",
      "Epoch 49/100\n",
      "96/96 - 10s - loss: 0.0015 - accuracy: 0.9998 - val_loss: 1.7875 - val_accuracy: 0.6824\n",
      "Epoch 50/100\n",
      "96/96 - 10s - loss: 0.0013 - accuracy: 0.9998 - val_loss: 1.7832 - val_accuracy: 0.6889\n",
      "Epoch 51/100\n",
      "96/96 - 10s - loss: 0.0014 - accuracy: 0.9998 - val_loss: 1.7811 - val_accuracy: 0.6914\n",
      "Epoch 52/100\n",
      "96/96 - 10s - loss: 0.0011 - accuracy: 0.9998 - val_loss: 1.8806 - val_accuracy: 0.6767\n",
      "Epoch 53/100\n",
      "96/96 - 10s - loss: 0.0013 - accuracy: 0.9998 - val_loss: 1.8467 - val_accuracy: 0.6792\n",
      "Epoch 54/100\n",
      "96/96 - 10s - loss: 0.0013 - accuracy: 0.9998 - val_loss: 1.7943 - val_accuracy: 0.6930\n",
      "Epoch 55/100\n",
      "96/96 - 10s - loss: 0.0012 - accuracy: 0.9998 - val_loss: 1.7896 - val_accuracy: 0.6865\n",
      "Epoch 56/100\n",
      "96/96 - 10s - loss: 7.9217e-04 - accuracy: 0.9998 - val_loss: 1.8087 - val_accuracy: 0.6897\n",
      "Epoch 57/100\n",
      "96/96 - 10s - loss: 0.0019 - accuracy: 0.9997 - val_loss: 1.8077 - val_accuracy: 0.6914\n",
      "Epoch 58/100\n",
      "96/96 - 10s - loss: 0.0011 - accuracy: 0.9998 - val_loss: 1.8014 - val_accuracy: 0.6906\n",
      "Epoch 59/100\n",
      "96/96 - 10s - loss: 0.0013 - accuracy: 0.9997 - val_loss: 1.8394 - val_accuracy: 0.6873\n",
      "Epoch 60/100\n",
      "96/96 - 10s - loss: 8.1201e-04 - accuracy: 0.9998 - val_loss: 1.8251 - val_accuracy: 0.6889\n",
      "Epoch 61/100\n",
      "96/96 - 10s - loss: 0.0014 - accuracy: 0.9997 - val_loss: 1.9319 - val_accuracy: 0.6767\n",
      "Epoch 62/100\n",
      "96/96 - 10s - loss: 9.2613e-04 - accuracy: 0.9998 - val_loss: 1.8019 - val_accuracy: 0.6906\n",
      "Epoch 63/100\n",
      "96/96 - 10s - loss: 7.1355e-04 - accuracy: 0.9998 - val_loss: 1.8846 - val_accuracy: 0.6922\n",
      "Epoch 64/100\n",
      "96/96 - 10s - loss: 7.8096e-04 - accuracy: 0.9998 - val_loss: 1.8735 - val_accuracy: 0.6873\n",
      "Epoch 65/100\n",
      "96/96 - 10s - loss: 0.0014 - accuracy: 0.9997 - val_loss: 1.8135 - val_accuracy: 0.6873\n",
      "Epoch 66/100\n",
      "96/96 - 10s - loss: 6.7694e-04 - accuracy: 0.9998 - val_loss: 1.8825 - val_accuracy: 0.6938\n",
      "Epoch 67/100\n",
      "96/96 - 10s - loss: 7.5340e-04 - accuracy: 0.9998 - val_loss: 1.8240 - val_accuracy: 0.6946\n",
      "Epoch 68/100\n",
      "96/96 - 10s - loss: 0.0010 - accuracy: 0.9997 - val_loss: 1.8191 - val_accuracy: 0.6873\n",
      "Epoch 69/100\n",
      "96/96 - 10s - loss: 9.1994e-04 - accuracy: 0.9997 - val_loss: 1.8221 - val_accuracy: 0.6873\n",
      "Epoch 70/100\n",
      "96/96 - 10s - loss: 5.7115e-04 - accuracy: 0.9998 - val_loss: 1.9418 - val_accuracy: 0.6857\n",
      "Epoch 71/100\n",
      "96/96 - 10s - loss: 0.0011 - accuracy: 0.9997 - val_loss: 1.8608 - val_accuracy: 0.6906\n",
      "Epoch 72/100\n",
      "96/96 - 10s - loss: 7.7737e-04 - accuracy: 0.9998 - val_loss: 1.9574 - val_accuracy: 0.6792\n",
      "Epoch 73/100\n",
      "96/96 - 10s - loss: 5.8214e-04 - accuracy: 0.9998 - val_loss: 1.9685 - val_accuracy: 0.6759\n",
      "Epoch 74/100\n",
      "96/96 - 10s - loss: 8.0523e-04 - accuracy: 0.9998 - val_loss: 1.8491 - val_accuracy: 0.6906\n",
      "Epoch 75/100\n",
      "96/96 - 10s - loss: 5.7557e-04 - accuracy: 0.9998 - val_loss: 1.8595 - val_accuracy: 0.6922\n",
      "Epoch 76/100\n",
      "96/96 - 10s - loss: 8.4831e-04 - accuracy: 0.9997 - val_loss: 1.8716 - val_accuracy: 0.6946\n",
      "Epoch 77/100\n",
      "96/96 - 10s - loss: 7.2682e-04 - accuracy: 0.9998 - val_loss: 1.9591 - val_accuracy: 0.6783\n",
      "Epoch 78/100\n",
      "96/96 - 10s - loss: 6.6195e-04 - accuracy: 0.9998 - val_loss: 1.8800 - val_accuracy: 0.6914\n",
      "Epoch 79/100\n",
      "96/96 - 10s - loss: 0.0015 - accuracy: 0.9997 - val_loss: 1.9275 - val_accuracy: 0.6906\n",
      "Epoch 80/100\n",
      "96/96 - 10s - loss: 7.6616e-04 - accuracy: 0.9998 - val_loss: 1.9333 - val_accuracy: 0.6906\n",
      "Epoch 81/100\n",
      "96/96 - 10s - loss: 9.5740e-04 - accuracy: 0.9997 - val_loss: 1.9190 - val_accuracy: 0.6865\n"
     ]
    },
    {
     "name": "stdout",
     "output_type": "stream",
     "text": [
      "Epoch 82/100\n",
      "96/96 - 10s - loss: 5.7769e-04 - accuracy: 0.9998 - val_loss: 1.9228 - val_accuracy: 0.6914\n",
      "Epoch 83/100\n",
      "96/96 - 10s - loss: 0.0036 - accuracy: 0.9993 - val_loss: 2.4997 - val_accuracy: 0.6409\n",
      "Epoch 84/100\n",
      "96/96 - 10s - loss: 0.5558 - accuracy: 0.8424 - val_loss: 2.4753 - val_accuracy: 0.6059\n",
      "Epoch 85/100\n",
      "96/96 - 10s - loss: 0.1016 - accuracy: 0.9666 - val_loss: 2.4988 - val_accuracy: 0.6376\n",
      "Epoch 86/100\n",
      "96/96 - 10s - loss: 0.0127 - accuracy: 0.9961 - val_loss: 2.1706 - val_accuracy: 0.6669\n",
      "Epoch 87/100\n",
      "96/96 - 10s - loss: 0.0059 - accuracy: 0.9984 - val_loss: 2.1023 - val_accuracy: 0.6824\n",
      "Epoch 88/100\n",
      "96/96 - 10s - loss: 0.0011 - accuracy: 0.9998 - val_loss: 2.0570 - val_accuracy: 0.6792\n",
      "Epoch 89/100\n",
      "96/96 - 10s - loss: 0.0013 - accuracy: 0.9997 - val_loss: 2.0669 - val_accuracy: 0.6792\n",
      "Epoch 90/100\n",
      "96/96 - 10s - loss: 8.7277e-04 - accuracy: 0.9998 - val_loss: 2.0885 - val_accuracy: 0.6857\n",
      "Epoch 91/100\n",
      "96/96 - 10s - loss: 0.0013 - accuracy: 0.9997 - val_loss: 2.0685 - val_accuracy: 0.6800\n",
      "Epoch 92/100\n",
      "96/96 - 10s - loss: 8.2726e-04 - accuracy: 0.9997 - val_loss: 2.0759 - val_accuracy: 0.6824\n",
      "Epoch 93/100\n",
      "96/96 - 10s - loss: 6.8810e-04 - accuracy: 0.9998 - val_loss: 2.0935 - val_accuracy: 0.6824\n",
      "Epoch 94/100\n",
      "96/96 - 10s - loss: 6.7326e-04 - accuracy: 0.9997 - val_loss: 2.0904 - val_accuracy: 0.6840\n",
      "Epoch 95/100\n",
      "96/96 - 10s - loss: 7.4524e-04 - accuracy: 0.9997 - val_loss: 2.1405 - val_accuracy: 0.6849\n",
      "Epoch 96/100\n",
      "96/96 - 10s - loss: 6.1717e-04 - accuracy: 0.9997 - val_loss: 2.1059 - val_accuracy: 0.6849\n",
      "Epoch 97/100\n",
      "96/96 - 10s - loss: 5.7060e-04 - accuracy: 0.9998 - val_loss: 2.1166 - val_accuracy: 0.6849\n",
      "Epoch 98/100\n",
      "96/96 - 10s - loss: 8.7285e-04 - accuracy: 0.9997 - val_loss: 2.1609 - val_accuracy: 0.6840\n",
      "Epoch 99/100\n",
      "96/96 - 10s - loss: 8.7193e-04 - accuracy: 0.9997 - val_loss: 2.1348 - val_accuracy: 0.6824\n",
      "Epoch 100/100\n",
      "96/96 - 10s - loss: 5.1867e-04 - accuracy: 0.9998 - val_loss: 2.1515 - val_accuracy: 0.6906\n",
      "INFO:tensorflow:Assets written to: C:\\Users\\yisi9\\AppData\\Local\\Temp\\tmp306mu_y2\\model\\data\\model\\assets\n"
     ]
    },
    {
     "name": "stderr",
     "output_type": "stream",
     "text": [
      "INFO:tensorflow:Assets written to: C:\\Users\\yisi9\\AppData\\Local\\Temp\\tmp306mu_y2\\model\\data\\model\\assets\n"
     ]
    },
    {
     "name": "stdout",
     "output_type": "stream",
     "text": [
      "13/13 - 1s - loss: 2.0754 - accuracy: 0.6988\n"
     ]
    }
   ],
   "source": [
    "EXPERIMENT_NAME = \"transfer-learning-tests\"\n",
    "RUN_NAME = \"vgg_19\"\n",
    "\n",
    "mlflow.set_experiment(EXPERIMENT_NAME)\n",
    "mlflow.set_tracking_uri('file:///E:/GoogleSync/Masters/Dissertation/MLflow/mlruns')\n",
    "\n",
    "with mlflow.start_run(run_name=RUN_NAME) as run:\n",
    "        \n",
    "        mlflow.tensorflow.autolog()\n",
    "        \n",
    "        history = model.fit(image_train, label_train, batch_size=batch_size, epochs=epochs, verbose=verbose, validation_data=(image_val, label_val), callbacks=[tensorboard_callback])\n",
    "\n",
    "        score = model.evaluate(image_test, label_test, batch_size=batch_size, verbose = verbose)\n",
    "        \n",
    "        \n",
    "        \n",
    "    \n",
    "        \n",
    "        mlflow.log_metric(\"test loss\", score[0])\n",
    "        mlflow.log_metric(\"test accuracy\", score[1])\n",
    "        mlflow.log_param(\"epochs\", epochs)\n",
    "        mlflow.log_param(\"batch_size\", batch_size)"
   ]
  },
  {
   "cell_type": "code",
   "execution_count": null,
   "id": "4e4307a8",
   "metadata": {},
   "outputs": [],
   "source": [
    "batch_size = 64\n",
    "epochs = 100\n",
    "verbose= 2"
   ]
  },
  {
   "cell_type": "code",
   "execution_count": null,
   "id": "138f0193",
   "metadata": {},
   "outputs": [],
   "source": []
  },
  {
   "cell_type": "markdown",
   "id": "16c98cf6",
   "metadata": {},
   "source": [
    "# Xception"
   ]
  },
  {
   "cell_type": "code",
   "execution_count": 76,
   "id": "abaca681",
   "metadata": {},
   "outputs": [],
   "source": [
    "base_model = tf.keras.applications.xception.Xception(\n",
    "    include_top=False, weights='imagenet', \n",
    "    input_shape=(224,224,3),\n",
    "    classifier_activation='softmax'\n",
    ")"
   ]
  },
  {
   "cell_type": "code",
   "execution_count": 77,
   "id": "de216f8d",
   "metadata": {},
   "outputs": [],
   "source": [
    "for layer in base_model.layers:\n",
    "    layer.trainable = False"
   ]
  },
  {
   "cell_type": "code",
   "execution_count": 78,
   "id": "562d29a1",
   "metadata": {},
   "outputs": [],
   "source": [
    "flatten_layer = layers.Flatten()\n",
    "dense_layer_1 = layers.Dense(100, activation='relu')\n",
    "dense_layer_2 = layers.Dense(100, activation='relu')\n",
    "prediction_layer = layers.Dense(NUM_CLASSES, activation='softmax')"
   ]
  },
  {
   "cell_type": "code",
   "execution_count": 79,
   "id": "f22ced17",
   "metadata": {},
   "outputs": [],
   "source": [
    "model = models.Sequential([\n",
    "    base_model,\n",
    "    flatten_layer,\n",
    "    dense_layer_1,\n",
    "    dense_layer_2,\n",
    "    prediction_layer\n",
    "])"
   ]
  },
  {
   "cell_type": "code",
   "execution_count": 80,
   "id": "6c924b31",
   "metadata": {},
   "outputs": [],
   "source": [
    "model.compile(\n",
    "    loss=\"categorical_crossentropy\",\n",
    "    optimizer=\"adam\",\n",
    "    metrics=[\"accuracy\"]\n",
    ")"
   ]
  },
  {
   "cell_type": "code",
   "execution_count": 81,
   "id": "a143ee9a",
   "metadata": {},
   "outputs": [
    {
     "name": "stderr",
     "output_type": "stream",
     "text": [
      "2021/08/21 11:26:47 WARNING mlflow.utils.autologging_utils: You are using an unsupported version of tensorflow. If you encounter errors during autologging, try upgrading / downgrading tensorflow to a supported version, or try upgrading MLflow.\n",
      "C:\\Users\\yisi9\\AppData\\Roaming\\Python\\Python39\\site-packages\\tensorflow\\python\\keras\\utils\\generic_utils.py:494: CustomMaskWarning: Custom mask layers require a config and must override get_config. When loading, the custom mask layer must be passed to the custom_objects argument.\n",
      "  warnings.warn('Custom mask layers require a config and must override '\n"
     ]
    },
    {
     "name": "stdout",
     "output_type": "stream",
     "text": [
      "Epoch 1/100\n",
      "96/96 - 13s - loss: 4.3860 - accuracy: 0.1107 - val_loss: 3.5754 - val_accuracy: 0.1767\n",
      "Epoch 2/100\n",
      "96/96 - 9s - loss: 3.0343 - accuracy: 0.2591 - val_loss: 2.7353 - val_accuracy: 0.3225\n",
      "Epoch 3/100\n",
      "96/96 - 9s - loss: 2.1465 - accuracy: 0.4250 - val_loss: 2.1247 - val_accuracy: 0.4536\n",
      "Epoch 4/100\n",
      "96/96 - 9s - loss: 1.5686 - accuracy: 0.5600 - val_loss: 2.2133 - val_accuracy: 0.4446\n",
      "Epoch 5/100\n",
      "96/96 - 9s - loss: 1.0593 - accuracy: 0.6901 - val_loss: 1.8826 - val_accuracy: 0.5594\n",
      "Epoch 6/100\n",
      "96/96 - 9s - loss: 0.7231 - accuracy: 0.7813 - val_loss: 1.9158 - val_accuracy: 0.5497\n",
      "Epoch 7/100\n",
      "96/96 - 9s - loss: 0.5095 - accuracy: 0.8447 - val_loss: 1.6795 - val_accuracy: 0.6295\n",
      "Epoch 8/100\n",
      "96/96 - 9s - loss: 0.3599 - accuracy: 0.8901 - val_loss: 1.7549 - val_accuracy: 0.6173\n",
      "Epoch 9/100\n",
      "96/96 - 9s - loss: 0.2423 - accuracy: 0.9301 - val_loss: 1.9809 - val_accuracy: 0.6156\n",
      "Epoch 10/100\n",
      "96/96 - 9s - loss: 0.2019 - accuracy: 0.9389 - val_loss: 1.8955 - val_accuracy: 0.6254\n",
      "Epoch 11/100\n",
      "96/96 - 9s - loss: 0.1223 - accuracy: 0.9681 - val_loss: 1.9790 - val_accuracy: 0.6409\n",
      "Epoch 12/100\n",
      "96/96 - 9s - loss: 0.0694 - accuracy: 0.9847 - val_loss: 1.8341 - val_accuracy: 0.6694\n",
      "Epoch 13/100\n",
      "96/96 - 9s - loss: 0.0488 - accuracy: 0.9906 - val_loss: 1.9112 - val_accuracy: 0.6547\n",
      "Epoch 14/100\n",
      "96/96 - 9s - loss: 0.0327 - accuracy: 0.9943 - val_loss: 1.9286 - val_accuracy: 0.6637\n",
      "Epoch 15/100\n",
      "96/96 - 9s - loss: 0.0197 - accuracy: 0.9977 - val_loss: 1.9122 - val_accuracy: 0.6637\n",
      "Epoch 16/100\n",
      "96/96 - 9s - loss: 0.0109 - accuracy: 0.9990 - val_loss: 1.9341 - val_accuracy: 0.6718\n",
      "Epoch 17/100\n",
      "96/96 - 9s - loss: 0.0105 - accuracy: 0.9992 - val_loss: 1.9989 - val_accuracy: 0.6743\n",
      "Epoch 18/100\n",
      "96/96 - 9s - loss: 0.0069 - accuracy: 0.9995 - val_loss: 1.9906 - val_accuracy: 0.6800\n",
      "Epoch 19/100\n",
      "96/96 - 9s - loss: 0.0080 - accuracy: 0.9993 - val_loss: 2.0099 - val_accuracy: 0.6865\n",
      "Epoch 20/100\n",
      "96/96 - 9s - loss: 0.0066 - accuracy: 0.9997 - val_loss: 2.0256 - val_accuracy: 0.6710\n",
      "Epoch 21/100\n",
      "96/96 - 9s - loss: 0.0037 - accuracy: 0.9998 - val_loss: 2.0569 - val_accuracy: 0.6865\n",
      "Epoch 22/100\n",
      "96/96 - 9s - loss: 0.0028 - accuracy: 0.9998 - val_loss: 2.0740 - val_accuracy: 0.6840\n",
      "Epoch 23/100\n",
      "96/96 - 9s - loss: 0.0044 - accuracy: 0.9997 - val_loss: 2.1297 - val_accuracy: 0.6816\n",
      "Epoch 24/100\n",
      "96/96 - 9s - loss: 0.0390 - accuracy: 0.9891 - val_loss: 2.9923 - val_accuracy: 0.5831\n",
      "Epoch 25/100\n",
      "96/96 - 10s - loss: 0.8952 - accuracy: 0.7769 - val_loss: 3.1162 - val_accuracy: 0.5741\n",
      "Epoch 26/100\n",
      "96/96 - 9s - loss: 0.5619 - accuracy: 0.8473 - val_loss: 2.6347 - val_accuracy: 0.6107\n",
      "Epoch 27/100\n",
      "96/96 - 9s - loss: 0.1774 - accuracy: 0.9435 - val_loss: 2.3958 - val_accuracy: 0.6531\n",
      "Epoch 28/100\n",
      "96/96 - 9s - loss: 0.0625 - accuracy: 0.9819 - val_loss: 2.3727 - val_accuracy: 0.6612\n",
      "Epoch 29/100\n",
      "96/96 - 9s - loss: 0.0244 - accuracy: 0.9922 - val_loss: 2.4480 - val_accuracy: 0.6645\n",
      "Epoch 30/100\n",
      "96/96 - 9s - loss: 0.0144 - accuracy: 0.9969 - val_loss: 2.4389 - val_accuracy: 0.6710\n",
      "Epoch 31/100\n",
      "96/96 - 9s - loss: 0.0047 - accuracy: 0.9998 - val_loss: 2.3674 - val_accuracy: 0.6808\n",
      "Epoch 32/100\n",
      "96/96 - 9s - loss: 0.0031 - accuracy: 0.9997 - val_loss: 2.3965 - val_accuracy: 0.6824\n",
      "Epoch 33/100\n",
      "96/96 - 9s - loss: 0.0024 - accuracy: 0.9998 - val_loss: 2.4433 - val_accuracy: 0.6775\n",
      "Epoch 34/100\n",
      "96/96 - 9s - loss: 0.0020 - accuracy: 0.9998 - val_loss: 2.4365 - val_accuracy: 0.6783\n",
      "Epoch 35/100\n",
      "96/96 - 9s - loss: 0.0030 - accuracy: 0.9997 - val_loss: 2.4385 - val_accuracy: 0.6840\n",
      "Epoch 36/100\n",
      "96/96 - 9s - loss: 0.0018 - accuracy: 0.9998 - val_loss: 2.4796 - val_accuracy: 0.6783\n",
      "Epoch 37/100\n",
      "96/96 - 9s - loss: 0.0021 - accuracy: 0.9997 - val_loss: 2.4503 - val_accuracy: 0.6800\n",
      "Epoch 38/100\n",
      "96/96 - 9s - loss: 0.0029 - accuracy: 0.9998 - val_loss: 2.4732 - val_accuracy: 0.6849\n",
      "Epoch 39/100\n",
      "96/96 - 9s - loss: 0.0016 - accuracy: 0.9997 - val_loss: 2.5014 - val_accuracy: 0.6816\n",
      "Epoch 40/100\n",
      "96/96 - 9s - loss: 0.0022 - accuracy: 0.9997 - val_loss: 2.5032 - val_accuracy: 0.6775\n",
      "Epoch 41/100\n",
      "96/96 - 9s - loss: 0.0012 - accuracy: 0.9997 - val_loss: 2.4995 - val_accuracy: 0.6881\n",
      "Epoch 42/100\n",
      "96/96 - 9s - loss: 0.0014 - accuracy: 0.9997 - val_loss: 2.5342 - val_accuracy: 0.6808\n",
      "Epoch 43/100\n",
      "96/96 - 9s - loss: 0.0018 - accuracy: 0.9997 - val_loss: 2.5231 - val_accuracy: 0.6832\n",
      "Epoch 44/100\n",
      "96/96 - 9s - loss: 7.9046e-04 - accuracy: 0.9998 - val_loss: 2.5458 - val_accuracy: 0.6808\n",
      "Epoch 45/100\n",
      "96/96 - 9s - loss: 0.0021 - accuracy: 0.9997 - val_loss: 2.5625 - val_accuracy: 0.6792\n",
      "Epoch 46/100\n",
      "96/96 - 9s - loss: 0.0015 - accuracy: 0.9997 - val_loss: 2.5631 - val_accuracy: 0.6759\n",
      "Epoch 47/100\n",
      "96/96 - 9s - loss: 5.8290e-04 - accuracy: 1.0000 - val_loss: 2.5442 - val_accuracy: 0.6857\n",
      "Epoch 48/100\n",
      "96/96 - 9s - loss: 3.5225e-04 - accuracy: 1.0000 - val_loss: 2.5650 - val_accuracy: 0.6865\n",
      "Epoch 49/100\n",
      "96/96 - 9s - loss: 3.2500e-04 - accuracy: 1.0000 - val_loss: 2.5726 - val_accuracy: 0.6889\n",
      "Epoch 50/100\n",
      "96/96 - 9s - loss: 3.0345e-04 - accuracy: 1.0000 - val_loss: 2.5821 - val_accuracy: 0.6889\n",
      "Epoch 51/100\n",
      "96/96 - 9s - loss: 2.8507e-04 - accuracy: 1.0000 - val_loss: 2.5919 - val_accuracy: 0.6881\n",
      "Epoch 52/100\n",
      "96/96 - 9s - loss: 2.6704e-04 - accuracy: 1.0000 - val_loss: 2.5948 - val_accuracy: 0.6906\n",
      "Epoch 53/100\n",
      "96/96 - 9s - loss: 2.5206e-04 - accuracy: 1.0000 - val_loss: 2.6037 - val_accuracy: 0.6889\n",
      "Epoch 54/100\n",
      "96/96 - 9s - loss: 2.3865e-04 - accuracy: 1.0000 - val_loss: 2.6114 - val_accuracy: 0.6906\n",
      "Epoch 55/100\n",
      "96/96 - 9s - loss: 2.2613e-04 - accuracy: 1.0000 - val_loss: 2.6216 - val_accuracy: 0.6914\n",
      "Epoch 56/100\n",
      "96/96 - 9s - loss: 2.1398e-04 - accuracy: 1.0000 - val_loss: 2.6285 - val_accuracy: 0.6914\n",
      "Epoch 57/100\n",
      "96/96 - 9s - loss: 2.0295e-04 - accuracy: 1.0000 - val_loss: 2.6360 - val_accuracy: 0.6914\n",
      "Epoch 58/100\n",
      "96/96 - 9s - loss: 1.9281e-04 - accuracy: 1.0000 - val_loss: 2.6461 - val_accuracy: 0.6930\n",
      "Epoch 59/100\n",
      "96/96 - 9s - loss: 1.8313e-04 - accuracy: 1.0000 - val_loss: 2.6528 - val_accuracy: 0.6930\n",
      "Epoch 60/100\n",
      "96/96 - 9s - loss: 1.7411e-04 - accuracy: 1.0000 - val_loss: 2.6601 - val_accuracy: 0.6897\n",
      "Epoch 61/100\n",
      "96/96 - 9s - loss: 1.6576e-04 - accuracy: 1.0000 - val_loss: 2.6687 - val_accuracy: 0.6922\n",
      "Epoch 62/100\n",
      "96/96 - 9s - loss: 1.5720e-04 - accuracy: 1.0000 - val_loss: 2.6730 - val_accuracy: 0.6930\n",
      "Epoch 63/100\n",
      "96/96 - 9s - loss: 1.4997e-04 - accuracy: 1.0000 - val_loss: 2.6842 - val_accuracy: 0.6938\n",
      "Epoch 64/100\n",
      "96/96 - 9s - loss: 1.4206e-04 - accuracy: 1.0000 - val_loss: 2.6918 - val_accuracy: 0.6930\n",
      "Epoch 65/100\n",
      "96/96 - 9s - loss: 1.3549e-04 - accuracy: 1.0000 - val_loss: 2.6981 - val_accuracy: 0.6938\n",
      "Epoch 66/100\n",
      "96/96 - 9s - loss: 1.2891e-04 - accuracy: 1.0000 - val_loss: 2.7036 - val_accuracy: 0.6946\n",
      "Epoch 67/100\n",
      "96/96 - 9s - loss: 1.2253e-04 - accuracy: 1.0000 - val_loss: 2.7111 - val_accuracy: 0.6946\n",
      "Epoch 68/100\n",
      "96/96 - 9s - loss: 1.1720e-04 - accuracy: 1.0000 - val_loss: 2.7188 - val_accuracy: 0.6954\n",
      "Epoch 69/100\n",
      "96/96 - 9s - loss: 1.1163e-04 - accuracy: 1.0000 - val_loss: 2.7290 - val_accuracy: 0.6938\n",
      "Epoch 70/100\n",
      "96/96 - 9s - loss: 1.0613e-04 - accuracy: 1.0000 - val_loss: 2.7365 - val_accuracy: 0.6954\n",
      "Epoch 71/100\n",
      "96/96 - 9s - loss: 1.0118e-04 - accuracy: 1.0000 - val_loss: 2.7427 - val_accuracy: 0.6954\n",
      "Epoch 72/100\n",
      "96/96 - 9s - loss: 9.6557e-05 - accuracy: 1.0000 - val_loss: 2.7497 - val_accuracy: 0.6946\n",
      "Epoch 73/100\n",
      "96/96 - 9s - loss: 9.1765e-05 - accuracy: 1.0000 - val_loss: 2.7624 - val_accuracy: 0.6963\n",
      "Epoch 74/100\n",
      "96/96 - 9s - loss: 8.7374e-05 - accuracy: 1.0000 - val_loss: 2.7675 - val_accuracy: 0.6938\n",
      "Epoch 75/100\n",
      "96/96 - 9s - loss: 8.3461e-05 - accuracy: 1.0000 - val_loss: 2.7775 - val_accuracy: 0.6930\n",
      "Epoch 76/100\n",
      "96/96 - 9s - loss: 7.9570e-05 - accuracy: 1.0000 - val_loss: 2.7796 - val_accuracy: 0.6963\n",
      "Epoch 77/100\n",
      "96/96 - 9s - loss: 7.5880e-05 - accuracy: 1.0000 - val_loss: 2.7905 - val_accuracy: 0.6963\n",
      "Epoch 78/100\n",
      "96/96 - 9s - loss: 7.2212e-05 - accuracy: 1.0000 - val_loss: 2.7949 - val_accuracy: 0.6979\n",
      "Epoch 79/100\n",
      "96/96 - 9s - loss: 6.8773e-05 - accuracy: 1.0000 - val_loss: 2.8074 - val_accuracy: 0.6979\n",
      "Epoch 80/100\n",
      "96/96 - 9s - loss: 6.5775e-05 - accuracy: 1.0000 - val_loss: 2.8110 - val_accuracy: 0.6979\n",
      "Epoch 81/100\n",
      "96/96 - 9s - loss: 6.2490e-05 - accuracy: 1.0000 - val_loss: 2.8197 - val_accuracy: 0.6971\n"
     ]
    },
    {
     "name": "stdout",
     "output_type": "stream",
     "text": [
      "Epoch 82/100\n",
      "96/96 - 9s - loss: 5.9619e-05 - accuracy: 1.0000 - val_loss: 2.8280 - val_accuracy: 0.6979\n",
      "Epoch 83/100\n",
      "96/96 - 9s - loss: 5.6662e-05 - accuracy: 1.0000 - val_loss: 2.8344 - val_accuracy: 0.6971\n",
      "Epoch 84/100\n",
      "96/96 - 9s - loss: 5.3980e-05 - accuracy: 1.0000 - val_loss: 2.8426 - val_accuracy: 0.6979\n",
      "Epoch 85/100\n",
      "96/96 - 9s - loss: 5.1526e-05 - accuracy: 1.0000 - val_loss: 2.8505 - val_accuracy: 0.6987\n",
      "Epoch 86/100\n",
      "96/96 - 9s - loss: 4.9070e-05 - accuracy: 1.0000 - val_loss: 2.8563 - val_accuracy: 0.6995\n",
      "Epoch 87/100\n",
      "96/96 - 9s - loss: 4.6510e-05 - accuracy: 1.0000 - val_loss: 2.8676 - val_accuracy: 0.6995\n",
      "Epoch 88/100\n",
      "96/96 - 9s - loss: 4.4489e-05 - accuracy: 1.0000 - val_loss: 2.8751 - val_accuracy: 0.6987\n",
      "Epoch 89/100\n",
      "96/96 - 9s - loss: 4.2418e-05 - accuracy: 1.0000 - val_loss: 2.8809 - val_accuracy: 0.6995\n",
      "Epoch 90/100\n",
      "96/96 - 9s - loss: 4.0283e-05 - accuracy: 1.0000 - val_loss: 2.8878 - val_accuracy: 0.7020\n",
      "Epoch 91/100\n",
      "96/96 - 9s - loss: 3.8388e-05 - accuracy: 1.0000 - val_loss: 2.8991 - val_accuracy: 0.7003\n",
      "Epoch 92/100\n",
      "96/96 - 9s - loss: 3.6605e-05 - accuracy: 1.0000 - val_loss: 2.9026 - val_accuracy: 0.7003\n",
      "Epoch 93/100\n",
      "96/96 - 9s - loss: 3.4755e-05 - accuracy: 1.0000 - val_loss: 2.9074 - val_accuracy: 0.6987\n",
      "Epoch 94/100\n",
      "96/96 - 9s - loss: 3.3201e-05 - accuracy: 1.0000 - val_loss: 2.9144 - val_accuracy: 0.6987\n",
      "Epoch 95/100\n",
      "96/96 - 9s - loss: 3.1677e-05 - accuracy: 1.0000 - val_loss: 2.9282 - val_accuracy: 0.7011\n",
      "Epoch 96/100\n",
      "96/96 - 9s - loss: 3.0020e-05 - accuracy: 1.0000 - val_loss: 2.9332 - val_accuracy: 0.7011\n",
      "Epoch 97/100\n",
      "96/96 - 9s - loss: 2.8717e-05 - accuracy: 1.0000 - val_loss: 2.9427 - val_accuracy: 0.7003\n",
      "Epoch 98/100\n",
      "96/96 - 9s - loss: 2.7279e-05 - accuracy: 1.0000 - val_loss: 2.9486 - val_accuracy: 0.6995\n",
      "Epoch 99/100\n",
      "96/96 - 9s - loss: 2.6081e-05 - accuracy: 1.0000 - val_loss: 2.9529 - val_accuracy: 0.7020\n",
      "Epoch 100/100\n",
      "96/96 - 9s - loss: 2.4765e-05 - accuracy: 1.0000 - val_loss: 2.9641 - val_accuracy: 0.7020\n"
     ]
    },
    {
     "name": "stderr",
     "output_type": "stream",
     "text": [
      "C:\\Users\\yisi9\\AppData\\Roaming\\Python\\Python39\\site-packages\\tensorflow\\python\\keras\\utils\\generic_utils.py:494: CustomMaskWarning: Custom mask layers require a config and must override get_config. When loading, the custom mask layer must be passed to the custom_objects argument.\n",
      "  warnings.warn('Custom mask layers require a config and must override '\n"
     ]
    },
    {
     "name": "stdout",
     "output_type": "stream",
     "text": [
      "INFO:tensorflow:Assets written to: C:\\Users\\yisi9\\AppData\\Local\\Temp\\tmpoebrhy0j\\model\\data\\model\\assets\n"
     ]
    },
    {
     "name": "stderr",
     "output_type": "stream",
     "text": [
      "INFO:tensorflow:Assets written to: C:\\Users\\yisi9\\AppData\\Local\\Temp\\tmpoebrhy0j\\model\\data\\model\\assets\n"
     ]
    },
    {
     "name": "stdout",
     "output_type": "stream",
     "text": [
      "13/13 - 2s - loss: 2.6359 - accuracy: 0.6951\n"
     ]
    }
   ],
   "source": [
    "EXPERIMENT_NAME = \"transfer-learning-tests\"\n",
    "RUN_NAME = \"xception\"\n",
    "\n",
    "mlflow.set_experiment(EXPERIMENT_NAME)\n",
    "mlflow.set_tracking_uri('file:///E:/GoogleSync/Masters/Dissertation/MLflow/mlruns')\n",
    "\n",
    "with mlflow.start_run(run_name=RUN_NAME) as run:\n",
    "        \n",
    "        mlflow.tensorflow.autolog()\n",
    "        \n",
    "        history = model.fit(image_train, label_train, batch_size=batch_size, epochs=epochs, verbose=verbose, validation_data=(image_val, label_val), callbacks=[tensorboard_callback])\n",
    "\n",
    "        score = model.evaluate(image_test, label_test, batch_size=batch_size, verbose = verbose)\n",
    "        \n",
    "        \n",
    "        \n",
    "    \n",
    "        \n",
    "        mlflow.log_metric(\"test loss\", score[0])\n",
    "        mlflow.log_metric(\"test accuracy\", score[1])\n",
    "        mlflow.log_param(\"epochs\", epochs)\n",
    "        mlflow.log_param(\"batch_size\", batch_size)"
   ]
  },
  {
   "cell_type": "code",
   "execution_count": null,
   "id": "8933c587",
   "metadata": {},
   "outputs": [],
   "source": []
  }
 ],
 "metadata": {
  "kernelspec": {
   "display_name": "Python 3",
   "language": "python",
   "name": "python3"
  },
  "language_info": {
   "codemirror_mode": {
    "name": "ipython",
    "version": 3
   },
   "file_extension": ".py",
   "mimetype": "text/x-python",
   "name": "python",
   "nbconvert_exporter": "python",
   "pygments_lexer": "ipython3",
   "version": "3.9.5"
  }
 },
 "nbformat": 4,
 "nbformat_minor": 5
}
